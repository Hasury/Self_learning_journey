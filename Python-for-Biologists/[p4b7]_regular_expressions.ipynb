{
  "nbformat": 4,
  "nbformat_minor": 0,
  "metadata": {
    "colab": {
      "provenance": []
    },
    "kernelspec": {
      "name": "python3",
      "display_name": "Python 3"
    },
    "language_info": {
      "name": "python"
    }
  },
  "cells": [
    {
      "cell_type": "markdown",
      "source": [
        "### Accession names"
      ],
      "metadata": {
        "id": "_jAEENeOAbiF"
      }
    },
    {
      "cell_type": "markdown",
      "source": [
        "Here's a list of made-up gene accession names:\n",
        "xkn59438, yhdck2, eihd39d9, chdsye847, hedle3455, xjhd53e, 45da, de37dp.\n",
        "Write a program that will print only the accession names that satisfy the following\n",
        "criteria – treat each criterion separately:  \n",
        "• contain the number 5  \n",
        "• contain the letter d or e  \n",
        "• contain the letters d and e in that order  \n",
        "• contain the letters d and e in that order with a single letter between them  \n",
        "• contain both the letters d and e in any order  \n",
        "• start with x or y  \n",
        "• start with x or y and end with e  \n",
        "• contain three or more numbers in a row  \n",
        "• end with d followed by either a, r or p  "
      ],
      "metadata": {
        "id": "Z--CDpvyAeLm"
      }
    },
    {
      "cell_type": "code",
      "execution_count": 1,
      "metadata": {
        "id": "BYMValLz-2on"
      },
      "outputs": [],
      "source": [
        "import re"
      ]
    },
    {
      "cell_type": "code",
      "source": [
        "gene_accession=['xkn59438', 'yhdck2', 'eihd39d9', 'chdsye847', 'hedle3455', 'xjhd53e', '45da', 'de37dp']"
      ],
      "metadata": {
        "id": "qlG8s_MeufQT"
      },
      "execution_count": 2,
      "outputs": []
    },
    {
      "cell_type": "code",
      "source": [
        "# contain the number 5\n",
        "for gene in gene_accession:\n",
        "    if re.search(r'5', gene):\n",
        "        print(gene)"
      ],
      "metadata": {
        "colab": {
          "base_uri": "https://localhost:8080/"
        },
        "id": "ZU0bKvoSuzW8",
        "outputId": "5239a4dc-36cf-43bd-c012-fa3ad37aa59c"
      },
      "execution_count": 3,
      "outputs": [
        {
          "output_type": "stream",
          "name": "stdout",
          "text": [
            "xkn59438\n",
            "hedle3455\n",
            "xjhd53e\n",
            "45da\n"
          ]
        }
      ]
    },
    {
      "cell_type": "code",
      "source": [
        "# contain the letter d or e\n",
        "for gene in gene_accession:\n",
        "  if re.search(r'd|e', gene):\n",
        "    print(gene)"
      ],
      "metadata": {
        "colab": {
          "base_uri": "https://localhost:8080/"
        },
        "id": "ElVe0LAZvzmp",
        "outputId": "8b41edb3-ed7e-4a2f-abe2-83daf9b56b7e"
      },
      "execution_count": 9,
      "outputs": [
        {
          "output_type": "stream",
          "name": "stdout",
          "text": [
            "yhdck2\n",
            "eihd39d9\n",
            "chdsye847\n",
            "hedle3455\n",
            "xjhd53e\n",
            "45da\n",
            "de37dp\n"
          ]
        }
      ]
    },
    {
      "cell_type": "code",
      "source": [
        "# contain the letters d and e in that order\n",
        "for gene in gene_accession:\n",
        "  if re.search(r'd.*e', gene):\n",
        "    print(gene)"
      ],
      "metadata": {
        "colab": {
          "base_uri": "https://localhost:8080/"
        },
        "id": "JsiVPtZawA7N",
        "outputId": "08280485-8bfe-4925-8b3c-9c5cf217058f"
      },
      "execution_count": 7,
      "outputs": [
        {
          "output_type": "stream",
          "name": "stdout",
          "text": [
            "chdsye847\n",
            "hedle3455\n",
            "xjhd53e\n",
            "de37dp\n"
          ]
        }
      ]
    },
    {
      "cell_type": "code",
      "source": [
        "# contain the letters d and e in that order with a single letter between them\n",
        "for gene in gene_accession:\n",
        "    if re.search(r'd.e', gene):\n",
        "      print(gene)"
      ],
      "metadata": {
        "colab": {
          "base_uri": "https://localhost:8080/"
        },
        "id": "a_kmMOi_u87f",
        "outputId": "bb8ad8d0-7511-4a19-8b70-2b7a4a774f1b"
      },
      "execution_count": 4,
      "outputs": [
        {
          "output_type": "stream",
          "name": "stdout",
          "text": [
            "hedle3455\n"
          ]
        }
      ]
    },
    {
      "cell_type": "code",
      "source": [
        "# contain both the letters d and e in any order\n",
        "for gene in gene_accession:\n",
        "  if re.search(r'd.*e|e.*d', gene):\n",
        "    print(gene)"
      ],
      "metadata": {
        "colab": {
          "base_uri": "https://localhost:8080/"
        },
        "id": "3SauiLQWvbA7",
        "outputId": "a58148f1-656d-4011-924a-d6289c4398cc"
      },
      "execution_count": 6,
      "outputs": [
        {
          "output_type": "stream",
          "name": "stdout",
          "text": [
            "eihd39d9\n",
            "chdsye847\n",
            "hedle3455\n",
            "xjhd53e\n",
            "de37dp\n"
          ]
        }
      ]
    },
    {
      "cell_type": "code",
      "source": [
        "# start with x or y\n",
        "for gene in gene_accession:\n",
        "  if re.search(r'^x|^y', gene):\n",
        "    print(gene)"
      ],
      "metadata": {
        "colab": {
          "base_uri": "https://localhost:8080/"
        },
        "id": "jEaoTNLTwA73",
        "outputId": "61f30665-2008-4972-ffb8-68d16cc115e9"
      },
      "execution_count": 11,
      "outputs": [
        {
          "output_type": "stream",
          "name": "stdout",
          "text": [
            "xkn59438\n",
            "yhdck2\n",
            "xjhd53e\n"
          ]
        }
      ]
    },
    {
      "cell_type": "code",
      "source": [
        "# start with x or y and end with e\n",
        "for gene in gene_accession:\n",
        "  if re.search(r'^x.*e$|^y.*e$', gene):\n",
        "    print(gene)"
      ],
      "metadata": {
        "colab": {
          "base_uri": "https://localhost:8080/"
        },
        "id": "T7H6_9xgxVVX",
        "outputId": "842806b1-0615-4a54-c97a-e2861c9b59a9"
      },
      "execution_count": 18,
      "outputs": [
        {
          "output_type": "stream",
          "name": "stdout",
          "text": [
            "xjhd53e\n"
          ]
        }
      ]
    },
    {
      "cell_type": "code",
      "source": [
        "# contain three or more numbers in a row\n",
        "for gene in gene_accession:\n",
        "  if re.search(r'\\d{3,}',gene):\n",
        "    print(gene)"
      ],
      "metadata": {
        "colab": {
          "base_uri": "https://localhost:8080/"
        },
        "id": "qvsXVjvzx2lb",
        "outputId": "520690ca-a38b-4105-8955-90f0d54e25e6"
      },
      "execution_count": 23,
      "outputs": [
        {
          "output_type": "stream",
          "name": "stdout",
          "text": [
            "xkn59438\n",
            "chdsye847\n",
            "hedle3455\n"
          ]
        }
      ]
    },
    {
      "cell_type": "code",
      "source": [
        "# end with d followed by either a, r or p\n",
        "for gene in gene_accession:\n",
        "  if re.search(r'd[arp]$', gene):\n",
        "    print(gene)"
      ],
      "metadata": {
        "colab": {
          "base_uri": "https://localhost:8080/"
        },
        "id": "bJqB2i0Iw_WL",
        "outputId": "9cc12629-6004-4506-baa1-c5665edb5897"
      },
      "execution_count": 24,
      "outputs": [
        {
          "output_type": "stream",
          "name": "stdout",
          "text": [
            "45da\n",
            "de37dp\n"
          ]
        }
      ]
    },
    {
      "cell_type": "markdown",
      "source": [
        "### Double digest"
      ],
      "metadata": {
        "id": "37-BUNHqAztR"
      }
    },
    {
      "cell_type": "markdown",
      "source": [
        "In the chapter_7 file inside the exercises download, there's a file called _dna.txt_ which contains a made-up DNA sequence. Predict the fragment lengths that we will get if we digest the sequence with two made-up restriction enzymes – AbcI, whose  recognition site is ANT\\*AAT, and AbcII, whose recognition site is GCRW\\*TG (asterisks indicate the position of the cut site).   \n",
        "R means A or G and the code W\n",
        "means A or T"
      ],
      "metadata": {
        "id": "yI8xXWm5A5Tj"
      }
    },
    {
      "cell_type": "code",
      "source": [
        "from google.colab import files\n",
        "uploaded=files.upload()"
      ],
      "metadata": {
        "id": "LJWj6n5LA4YQ",
        "colab": {
          "base_uri": "https://localhost:8080/",
          "height": 74
        },
        "outputId": "ba42946b-0ec5-4ff4-fe7a-517dfaa706af"
      },
      "execution_count": 25,
      "outputs": [
        {
          "output_type": "display_data",
          "data": {
            "text/plain": [
              "<IPython.core.display.HTML object>"
            ],
            "text/html": [
              "\n",
              "     <input type=\"file\" id=\"files-8cc8e70a-74cb-4512-b122-9a598ddde540\" name=\"files[]\" multiple disabled\n",
              "        style=\"border:none\" />\n",
              "     <output id=\"result-8cc8e70a-74cb-4512-b122-9a598ddde540\">\n",
              "      Upload widget is only available when the cell has been executed in the\n",
              "      current browser session. Please rerun this cell to enable.\n",
              "      </output>\n",
              "      <script>// Copyright 2017 Google LLC\n",
              "//\n",
              "// Licensed under the Apache License, Version 2.0 (the \"License\");\n",
              "// you may not use this file except in compliance with the License.\n",
              "// You may obtain a copy of the License at\n",
              "//\n",
              "//      http://www.apache.org/licenses/LICENSE-2.0\n",
              "//\n",
              "// Unless required by applicable law or agreed to in writing, software\n",
              "// distributed under the License is distributed on an \"AS IS\" BASIS,\n",
              "// WITHOUT WARRANTIES OR CONDITIONS OF ANY KIND, either express or implied.\n",
              "// See the License for the specific language governing permissions and\n",
              "// limitations under the License.\n",
              "\n",
              "/**\n",
              " * @fileoverview Helpers for google.colab Python module.\n",
              " */\n",
              "(function(scope) {\n",
              "function span(text, styleAttributes = {}) {\n",
              "  const element = document.createElement('span');\n",
              "  element.textContent = text;\n",
              "  for (const key of Object.keys(styleAttributes)) {\n",
              "    element.style[key] = styleAttributes[key];\n",
              "  }\n",
              "  return element;\n",
              "}\n",
              "\n",
              "// Max number of bytes which will be uploaded at a time.\n",
              "const MAX_PAYLOAD_SIZE = 100 * 1024;\n",
              "\n",
              "function _uploadFiles(inputId, outputId) {\n",
              "  const steps = uploadFilesStep(inputId, outputId);\n",
              "  const outputElement = document.getElementById(outputId);\n",
              "  // Cache steps on the outputElement to make it available for the next call\n",
              "  // to uploadFilesContinue from Python.\n",
              "  outputElement.steps = steps;\n",
              "\n",
              "  return _uploadFilesContinue(outputId);\n",
              "}\n",
              "\n",
              "// This is roughly an async generator (not supported in the browser yet),\n",
              "// where there are multiple asynchronous steps and the Python side is going\n",
              "// to poll for completion of each step.\n",
              "// This uses a Promise to block the python side on completion of each step,\n",
              "// then passes the result of the previous step as the input to the next step.\n",
              "function _uploadFilesContinue(outputId) {\n",
              "  const outputElement = document.getElementById(outputId);\n",
              "  const steps = outputElement.steps;\n",
              "\n",
              "  const next = steps.next(outputElement.lastPromiseValue);\n",
              "  return Promise.resolve(next.value.promise).then((value) => {\n",
              "    // Cache the last promise value to make it available to the next\n",
              "    // step of the generator.\n",
              "    outputElement.lastPromiseValue = value;\n",
              "    return next.value.response;\n",
              "  });\n",
              "}\n",
              "\n",
              "/**\n",
              " * Generator function which is called between each async step of the upload\n",
              " * process.\n",
              " * @param {string} inputId Element ID of the input file picker element.\n",
              " * @param {string} outputId Element ID of the output display.\n",
              " * @return {!Iterable<!Object>} Iterable of next steps.\n",
              " */\n",
              "function* uploadFilesStep(inputId, outputId) {\n",
              "  const inputElement = document.getElementById(inputId);\n",
              "  inputElement.disabled = false;\n",
              "\n",
              "  const outputElement = document.getElementById(outputId);\n",
              "  outputElement.innerHTML = '';\n",
              "\n",
              "  const pickedPromise = new Promise((resolve) => {\n",
              "    inputElement.addEventListener('change', (e) => {\n",
              "      resolve(e.target.files);\n",
              "    });\n",
              "  });\n",
              "\n",
              "  const cancel = document.createElement('button');\n",
              "  inputElement.parentElement.appendChild(cancel);\n",
              "  cancel.textContent = 'Cancel upload';\n",
              "  const cancelPromise = new Promise((resolve) => {\n",
              "    cancel.onclick = () => {\n",
              "      resolve(null);\n",
              "    };\n",
              "  });\n",
              "\n",
              "  // Wait for the user to pick the files.\n",
              "  const files = yield {\n",
              "    promise: Promise.race([pickedPromise, cancelPromise]),\n",
              "    response: {\n",
              "      action: 'starting',\n",
              "    }\n",
              "  };\n",
              "\n",
              "  cancel.remove();\n",
              "\n",
              "  // Disable the input element since further picks are not allowed.\n",
              "  inputElement.disabled = true;\n",
              "\n",
              "  if (!files) {\n",
              "    return {\n",
              "      response: {\n",
              "        action: 'complete',\n",
              "      }\n",
              "    };\n",
              "  }\n",
              "\n",
              "  for (const file of files) {\n",
              "    const li = document.createElement('li');\n",
              "    li.append(span(file.name, {fontWeight: 'bold'}));\n",
              "    li.append(span(\n",
              "        `(${file.type || 'n/a'}) - ${file.size} bytes, ` +\n",
              "        `last modified: ${\n",
              "            file.lastModifiedDate ? file.lastModifiedDate.toLocaleDateString() :\n",
              "                                    'n/a'} - `));\n",
              "    const percent = span('0% done');\n",
              "    li.appendChild(percent);\n",
              "\n",
              "    outputElement.appendChild(li);\n",
              "\n",
              "    const fileDataPromise = new Promise((resolve) => {\n",
              "      const reader = new FileReader();\n",
              "      reader.onload = (e) => {\n",
              "        resolve(e.target.result);\n",
              "      };\n",
              "      reader.readAsArrayBuffer(file);\n",
              "    });\n",
              "    // Wait for the data to be ready.\n",
              "    let fileData = yield {\n",
              "      promise: fileDataPromise,\n",
              "      response: {\n",
              "        action: 'continue',\n",
              "      }\n",
              "    };\n",
              "\n",
              "    // Use a chunked sending to avoid message size limits. See b/62115660.\n",
              "    let position = 0;\n",
              "    do {\n",
              "      const length = Math.min(fileData.byteLength - position, MAX_PAYLOAD_SIZE);\n",
              "      const chunk = new Uint8Array(fileData, position, length);\n",
              "      position += length;\n",
              "\n",
              "      const base64 = btoa(String.fromCharCode.apply(null, chunk));\n",
              "      yield {\n",
              "        response: {\n",
              "          action: 'append',\n",
              "          file: file.name,\n",
              "          data: base64,\n",
              "        },\n",
              "      };\n",
              "\n",
              "      let percentDone = fileData.byteLength === 0 ?\n",
              "          100 :\n",
              "          Math.round((position / fileData.byteLength) * 100);\n",
              "      percent.textContent = `${percentDone}% done`;\n",
              "\n",
              "    } while (position < fileData.byteLength);\n",
              "  }\n",
              "\n",
              "  // All done.\n",
              "  yield {\n",
              "    response: {\n",
              "      action: 'complete',\n",
              "    }\n",
              "  };\n",
              "}\n",
              "\n",
              "scope.google = scope.google || {};\n",
              "scope.google.colab = scope.google.colab || {};\n",
              "scope.google.colab._files = {\n",
              "  _uploadFiles,\n",
              "  _uploadFilesContinue,\n",
              "};\n",
              "})(self);\n",
              "</script> "
            ]
          },
          "metadata": {}
        },
        {
          "output_type": "stream",
          "name": "stdout",
          "text": [
            "Saving dna.txt to dna.txt\n"
          ]
        }
      ]
    },
    {
      "cell_type": "code",
      "source": [
        "import re"
      ],
      "metadata": {
        "id": "imUXzzmX5PMt"
      },
      "execution_count": 48,
      "outputs": []
    },
    {
      "cell_type": "code",
      "source": [
        "input=open('dna.txt')\n",
        "dna=input.read().rstrip('\\n')"
      ],
      "metadata": {
        "id": "Oh5TUUBMAI97"
      },
      "execution_count": 82,
      "outputs": []
    },
    {
      "cell_type": "code",
      "source": [
        "abcI=re.finditer(r'A.TAAT', dna)\n",
        "abcII=re.finditer(r'GC[AG][AT]TG', dna)\n",
        "cut_sites=[0,len(dna)]\n",
        "for i in abcI:\n",
        "  cut_sites.append(i.start()+3)\n",
        "acbii=[]\n",
        "for i in abcII:\n",
        "  cut_sites.append(i.start()+4)\n",
        "cut_sites.sort()\n",
        "print(cut_sites)\n",
        "for i in range(len(cut_sites)-1):\n",
        "  length=cut_sites[i+1]-cut_sites[i]\n",
        "  print(length)"
      ],
      "metadata": {
        "colab": {
          "base_uri": "https://localhost:8080/"
        },
        "id": "oyP8_U2V3oR8",
        "outputId": "f4a29f93-800b-43ca-e076-a714ee2f3a67"
      },
      "execution_count": 110,
      "outputs": [
        {
          "output_type": "stream",
          "name": "stdout",
          "text": [
            "[0, 488, 1143, 1577, 1628, 2012]\n",
            "488\n",
            "655\n",
            "434\n",
            "51\n",
            "384\n"
          ]
        }
      ]
    },
    {
      "cell_type": "code",
      "source": [
        "}# solution from the book\n",
        "import re\n",
        "dna = open(\"dna.txt\").read().rstrip(\"\\n\")\n",
        "print(str(len(dna)))\n",
        "all_cuts = [0]\n",
        "\n",
        "# add cut positions for AbcI\n",
        "for match in re.finditer(r\"A[ATGC]TAAT\", dna):\n",
        "  all_cuts.append(match.start() + 3)\n",
        "  print(match.start() + 3)\n",
        "\n",
        "# add cut positions for AbcII\n",
        "for match in re.finditer(r\"GC[AG][AT]TG\", dna):\n",
        "  all_cuts.append(match.start() + 4)\n",
        "  print(match.start() + 4)\n",
        "\n",
        "# add the final position\n",
        "all_cuts.append(len(dna))\n",
        "sorted_cuts = sorted(all_cuts)\n",
        "print(sorted_cuts)\n",
        "\n",
        "\n",
        "for i in range(1,len(sorted_cuts)):\n",
        "  this_cut_position = sorted_cuts[i]\n",
        "  previous_cut_position = sorted_cuts[i-1]\n",
        "  fragment_size = this_cut_position - previous_cut_position\n",
        "  print(\"one fragment size is \" + str(fragment_size))"
      ],
      "metadata": {
        "colab": {
          "base_uri": "https://localhost:8080/"
        },
        "id": "HyPAcIhkB4X_",
        "outputId": "80314b06-8923-4e4a-eda6-c899cd118007"
      },
      "execution_count": 106,
      "outputs": [
        {
          "output_type": "stream",
          "name": "stdout",
          "text": [
            "2012\n",
            "1143\n",
            "1628\n",
            "488\n",
            "1577\n",
            "[0, 488, 1143, 1577, 1628, 2012]\n",
            "one fragment size is 488\n",
            "one fragment size is 655\n",
            "one fragment size is 434\n",
            "one fragment size is 51\n",
            "one fragment size is 384\n"
          ]
        }
      ]
    },
    {
      "cell_type": "code",
      "source": [],
      "metadata": {
        "id": "w3wIYSQxB7bH"
      },
      "execution_count": null,
      "outputs": []
    }
  ]
}