{
  "nbformat": 4,
  "nbformat_minor": 0,
  "metadata": {
    "colab": {
      "provenance": []
    },
    "kernelspec": {
      "name": "python3",
      "display_name": "Python 3"
    },
    "language_info": {
      "name": "python"
    }
  },
  "cells": [
    {
      "cell_type": "markdown",
      "source": [
        "### DNA translation"
      ],
      "metadata": {
        "id": "-6NIe5STEWaF"
      }
    },
    {
      "cell_type": "markdown",
      "source": [
        "Write a program that will translate a DNA sequence into protein. Your program\n",
        "should use the standard genetic code which can be found at https://www.ncbi.nlm.nih.gov/Taxonomy/taxonomyhome.html/index.cgi?chapter=tgencodes#SG1"
      ],
      "metadata": {
        "id": "2yz6zwXPEZ0X"
      }
    },
    {
      "cell_type": "code",
      "execution_count": 44,
      "metadata": {
        "id": "zAg7fi2pERZG"
      },
      "outputs": [],
      "source": [
        "codon_table_dna= {\n",
        "'F': ['TTT', 'TTC'], 'L': ['TTA', 'TTG', 'CTT', 'CTC', 'CTA', 'CTG'], 'I': ['ATT', 'ATC', 'ATA'],\n",
        "'M': ['ATG'], 'V': ['GTT', 'GTC', 'GTA', 'GTG'], 'S': ['TCT', 'TCC', 'TCA', 'TCG', 'AGT', 'AGC'],\n",
        "'P': ['CCT', 'CCC', 'CCA', 'CCG'], 'T': ['ACT', 'ACC', 'ACA', 'ACG'], 'A': ['GCT', 'GCC', 'GCA', 'GCG'],\n",
        "'Y': ['TAT', 'TAC'], 'H': ['CAT', 'CAC'], 'Q': ['CAA', 'CAG'], 'N': ['AAT', 'AAC'], 'K': ['AAA', 'AAG'],\n",
        "'D': ['GAT', 'GAC'], 'E': ['GAA', 'GAG'], 'C': ['TGT', 'TGC'], 'W': ['TGG'],\n",
        "'R': ['CGT', 'CGC', 'CGA', 'CGG', 'AGA', 'AGG'], 'G': ['GGT', 'GGC', 'GGA', 'GGG', 'GGT'], '*': ['TAA', 'TAG', 'TGA']\n",
        "}\n",
        "genetic_code_dna={}\n",
        "for amino_acid, codons in codon_table_dna.items():\n",
        "  for codon in codons:\n",
        "    genetic_code_dna[codon]=amino_acid"
      ]
    },
    {
      "cell_type": "code",
      "source": [
        "def display_dict(dictionary):\n",
        "    items = list(dictionary.items())  # Convert dictionary to a list of (key, value) pairs\n",
        "    for i in range(0, len(items), 5):  # Step through 5 items at a time\n",
        "        line = \", \".join([f\"{key}: {value}\" for key, value in items[i:i+5]])  # Format 5 pairs\n",
        "        print(line)\n",
        "\n",
        "# Example usage\n",
        "display_dict(genetic_code_dna)"
      ],
      "metadata": {
        "colab": {
          "base_uri": "https://localhost:8080/"
        },
        "id": "jCqtc6ui7fTu",
        "outputId": "69a764f1-fe05-4a59-94a9-4c36b8d95166"
      },
      "execution_count": 48,
      "outputs": [
        {
          "output_type": "stream",
          "name": "stdout",
          "text": [
            "TTT: F, TTC: F, TTA: L, TTG: L, CTT: L\n",
            "CTC: L, CTA: L, CTG: L, ATT: I, ATC: I\n",
            "ATA: I, ATG: M, GTT: V, GTC: V, GTA: V\n",
            "GTG: V, TCT: S, TCC: S, TCA: S, TCG: S\n",
            "AGT: S, AGC: S, CCT: P, CCC: P, CCA: P\n",
            "CCG: P, ACT: T, ACC: T, ACA: T, ACG: T\n",
            "GCT: A, GCC: A, GCA: A, GCG: A, TAT: Y\n",
            "TAC: Y, CAT: H, CAC: H, CAA: Q, CAG: Q\n",
            "AAT: N, AAC: N, AAA: K, AAG: K, GAT: D\n",
            "GAC: D, GAA: E, GAG: E, TGT: C, TGC: C\n",
            "TGG: W, CGT: R, CGC: R, CGA: R, CGG: R\n",
            "AGA: R, AGG: R, GGT: G, GGC: G, GGA: G\n",
            "GGG: G, TAA: *, TAG: *, TGA: *\n"
          ]
        }
      ]
    },
    {
      "cell_type": "code",
      "source": [
        "import re\n",
        "def translate_dna(dna):\n",
        "  protein=''\n",
        "  for i in range(0, len(dna), 3):\n",
        "    codon=dna[i:i+3]\n",
        "    if re.search('U', codon):\n",
        "      codon=codon.replace('U', 'T')\n",
        "    if genetic_code_dna[codon]=='*':\n",
        "      break\n",
        "    protein+=genetic_code_dna[codon]\n",
        "  return protein"
      ],
      "metadata": {
        "id": "ZM4uLefF80zQ"
      },
      "execution_count": 46,
      "outputs": []
    },
    {
      "cell_type": "code",
      "source": [
        "translate_dna('CCACGUACUGAAAUUAAC')"
      ],
      "metadata": {
        "colab": {
          "base_uri": "https://localhost:8080/",
          "height": 35
        },
        "id": "349N52th9Vz4",
        "outputId": "ba0602d1-1e9f-4aea-cb79-c4409ec2ca70"
      },
      "execution_count": 47,
      "outputs": [
        {
          "output_type": "execute_result",
          "data": {
            "text/plain": [
              "'PRTEIN'"
            ],
            "application/vnd.google.colaboratory.intrinsic+json": {
              "type": "string"
            }
          },
          "metadata": {},
          "execution_count": 47
        }
      ]
    }
  ]
}