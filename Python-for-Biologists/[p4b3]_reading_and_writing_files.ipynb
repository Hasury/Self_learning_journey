{
  "cells": [
    {
      "cell_type": "markdown",
      "metadata": {
        "id": "0fvvlYTEDjK4"
      },
      "source": [
        "## Upload zip file contains files for excercises"
      ]
    },
    {
      "cell_type": "code",
      "execution_count": null,
      "metadata": {
        "colab": {
          "base_uri": "https://localhost:8080/",
          "height": 285
        },
        "id": "g4qRxcfYC_Z7",
        "outputId": "ccb88d23-b987-4efa-f2b4-163079292163"
      },
      "outputs": [
        {
          "output_type": "display_data",
          "data": {
            "text/plain": [
              "<IPython.core.display.HTML object>"
            ],
            "text/html": [
              "\n",
              "     <input type=\"file\" id=\"files-fde9b4ff-9843-45ee-bb5f-c94dbb24986b\" name=\"files[]\" multiple disabled\n",
              "        style=\"border:none\" />\n",
              "     <output id=\"result-fde9b4ff-9843-45ee-bb5f-c94dbb24986b\">\n",
              "      Upload widget is only available when the cell has been executed in the\n",
              "      current browser session. Please rerun this cell to enable.\n",
              "      </output>\n",
              "      <script>// Copyright 2017 Google LLC\n",
              "//\n",
              "// Licensed under the Apache License, Version 2.0 (the \"License\");\n",
              "// you may not use this file except in compliance with the License.\n",
              "// You may obtain a copy of the License at\n",
              "//\n",
              "//      http://www.apache.org/licenses/LICENSE-2.0\n",
              "//\n",
              "// Unless required by applicable law or agreed to in writing, software\n",
              "// distributed under the License is distributed on an \"AS IS\" BASIS,\n",
              "// WITHOUT WARRANTIES OR CONDITIONS OF ANY KIND, either express or implied.\n",
              "// See the License for the specific language governing permissions and\n",
              "// limitations under the License.\n",
              "\n",
              "/**\n",
              " * @fileoverview Helpers for google.colab Python module.\n",
              " */\n",
              "(function(scope) {\n",
              "function span(text, styleAttributes = {}) {\n",
              "  const element = document.createElement('span');\n",
              "  element.textContent = text;\n",
              "  for (const key of Object.keys(styleAttributes)) {\n",
              "    element.style[key] = styleAttributes[key];\n",
              "  }\n",
              "  return element;\n",
              "}\n",
              "\n",
              "// Max number of bytes which will be uploaded at a time.\n",
              "const MAX_PAYLOAD_SIZE = 100 * 1024;\n",
              "\n",
              "function _uploadFiles(inputId, outputId) {\n",
              "  const steps = uploadFilesStep(inputId, outputId);\n",
              "  const outputElement = document.getElementById(outputId);\n",
              "  // Cache steps on the outputElement to make it available for the next call\n",
              "  // to uploadFilesContinue from Python.\n",
              "  outputElement.steps = steps;\n",
              "\n",
              "  return _uploadFilesContinue(outputId);\n",
              "}\n",
              "\n",
              "// This is roughly an async generator (not supported in the browser yet),\n",
              "// where there are multiple asynchronous steps and the Python side is going\n",
              "// to poll for completion of each step.\n",
              "// This uses a Promise to block the python side on completion of each step,\n",
              "// then passes the result of the previous step as the input to the next step.\n",
              "function _uploadFilesContinue(outputId) {\n",
              "  const outputElement = document.getElementById(outputId);\n",
              "  const steps = outputElement.steps;\n",
              "\n",
              "  const next = steps.next(outputElement.lastPromiseValue);\n",
              "  return Promise.resolve(next.value.promise).then((value) => {\n",
              "    // Cache the last promise value to make it available to the next\n",
              "    // step of the generator.\n",
              "    outputElement.lastPromiseValue = value;\n",
              "    return next.value.response;\n",
              "  });\n",
              "}\n",
              "\n",
              "/**\n",
              " * Generator function which is called between each async step of the upload\n",
              " * process.\n",
              " * @param {string} inputId Element ID of the input file picker element.\n",
              " * @param {string} outputId Element ID of the output display.\n",
              " * @return {!Iterable<!Object>} Iterable of next steps.\n",
              " */\n",
              "function* uploadFilesStep(inputId, outputId) {\n",
              "  const inputElement = document.getElementById(inputId);\n",
              "  inputElement.disabled = false;\n",
              "\n",
              "  const outputElement = document.getElementById(outputId);\n",
              "  outputElement.innerHTML = '';\n",
              "\n",
              "  const pickedPromise = new Promise((resolve) => {\n",
              "    inputElement.addEventListener('change', (e) => {\n",
              "      resolve(e.target.files);\n",
              "    });\n",
              "  });\n",
              "\n",
              "  const cancel = document.createElement('button');\n",
              "  inputElement.parentElement.appendChild(cancel);\n",
              "  cancel.textContent = 'Cancel upload';\n",
              "  const cancelPromise = new Promise((resolve) => {\n",
              "    cancel.onclick = () => {\n",
              "      resolve(null);\n",
              "    };\n",
              "  });\n",
              "\n",
              "  // Wait for the user to pick the files.\n",
              "  const files = yield {\n",
              "    promise: Promise.race([pickedPromise, cancelPromise]),\n",
              "    response: {\n",
              "      action: 'starting',\n",
              "    }\n",
              "  };\n",
              "\n",
              "  cancel.remove();\n",
              "\n",
              "  // Disable the input element since further picks are not allowed.\n",
              "  inputElement.disabled = true;\n",
              "\n",
              "  if (!files) {\n",
              "    return {\n",
              "      response: {\n",
              "        action: 'complete',\n",
              "      }\n",
              "    };\n",
              "  }\n",
              "\n",
              "  for (const file of files) {\n",
              "    const li = document.createElement('li');\n",
              "    li.append(span(file.name, {fontWeight: 'bold'}));\n",
              "    li.append(span(\n",
              "        `(${file.type || 'n/a'}) - ${file.size} bytes, ` +\n",
              "        `last modified: ${\n",
              "            file.lastModifiedDate ? file.lastModifiedDate.toLocaleDateString() :\n",
              "                                    'n/a'} - `));\n",
              "    const percent = span('0% done');\n",
              "    li.appendChild(percent);\n",
              "\n",
              "    outputElement.appendChild(li);\n",
              "\n",
              "    const fileDataPromise = new Promise((resolve) => {\n",
              "      const reader = new FileReader();\n",
              "      reader.onload = (e) => {\n",
              "        resolve(e.target.result);\n",
              "      };\n",
              "      reader.readAsArrayBuffer(file);\n",
              "    });\n",
              "    // Wait for the data to be ready.\n",
              "    let fileData = yield {\n",
              "      promise: fileDataPromise,\n",
              "      response: {\n",
              "        action: 'continue',\n",
              "      }\n",
              "    };\n",
              "\n",
              "    // Use a chunked sending to avoid message size limits. See b/62115660.\n",
              "    let position = 0;\n",
              "    do {\n",
              "      const length = Math.min(fileData.byteLength - position, MAX_PAYLOAD_SIZE);\n",
              "      const chunk = new Uint8Array(fileData, position, length);\n",
              "      position += length;\n",
              "\n",
              "      const base64 = btoa(String.fromCharCode.apply(null, chunk));\n",
              "      yield {\n",
              "        response: {\n",
              "          action: 'append',\n",
              "          file: file.name,\n",
              "          data: base64,\n",
              "        },\n",
              "      };\n",
              "\n",
              "      let percentDone = fileData.byteLength === 0 ?\n",
              "          100 :\n",
              "          Math.round((position / fileData.byteLength) * 100);\n",
              "      percent.textContent = `${percentDone}% done`;\n",
              "\n",
              "    } while (position < fileData.byteLength);\n",
              "  }\n",
              "\n",
              "  // All done.\n",
              "  yield {\n",
              "    response: {\n",
              "      action: 'complete',\n",
              "    }\n",
              "  };\n",
              "}\n",
              "\n",
              "scope.google = scope.google || {};\n",
              "scope.google.colab = scope.google.colab || {};\n",
              "scope.google.colab._files = {\n",
              "  _uploadFiles,\n",
              "  _uploadFilesContinue,\n",
              "};\n",
              "})(self);\n",
              "</script> "
            ]
          },
          "metadata": {}
        },
        {
          "output_type": "stream",
          "name": "stdout",
          "text": [
            "Saving coding_dna.txt to coding_dna.txt\n",
            "Saving genomic_dna.py to genomic_dna.py\n",
            "Saving genomic_dna.txt to genomic_dna.txt\n",
            "Saving noncoding_dna.txt to noncoding_dna.txt\n",
            "Saving sequences.fasta to sequences.fasta\n",
            "Saving writing_a_fasta_file.py to writing_a_fasta_file.py\n",
            "Saving writing_multiple_fasta_files.py to writing_multiple_fasta_files.py\n"
          ]
        }
      ],
      "source": [
        "from google.colab import files\n",
        "uploaded = files.upload()"
      ]
    },
    {
      "cell_type": "code",
      "execution_count": null,
      "metadata": {
        "id": "LtpVjbKlD6Oq"
      },
      "outputs": [],
      "source": [
        "import zipfile\n",
        "import os\n",
        "\n",
        "# Assuming the uploaded zip file is the first file in the uploaded dictionary\n",
        "zip_filename = list(uploaded.keys())[0]\n",
        "\n",
        "# Unzipping the folder\n",
        "with zipfile.ZipFile(zip_filename, 'r') as zip_ref:\n",
        "    zip_ref.extractall('/')\n",
        "\n",
        "# Optional: List the contents of the unzipped folder\n",
        "os.listdir('/')"
      ]
    },
    {
      "cell_type": "code",
      "execution_count": null,
      "metadata": {
        "id": "EezH8JYfD8l7"
      },
      "outputs": [],
      "source": [
        "# List the contents to verify the folder is there\n",
        "extracted_items = os.listdir('/content/')\n",
        "print(extracted_items)"
      ]
    },
    {
      "cell_type": "code",
      "execution_count": null,
      "metadata": {
        "id": "gZrqU2oDD_I0"
      },
      "outputs": [],
      "source": [
        "folder_path = '/content/exercises and examples'\n",
        "\n",
        "# List all files in the folder\n",
        "files_in_folder = os.listdir(folder_path)\n",
        "print(files_in_folder)"
      ]
    },
    {
      "cell_type": "code",
      "source": [
        "import os\n",
        "\n",
        "# Get the current working directory\n",
        "current_directory = os.getcwd()\n",
        "current_directory"
      ],
      "metadata": {
        "colab": {
          "base_uri": "https://localhost:8080/",
          "height": 35
        },
        "id": "2H8pVxaW8Cz_",
        "outputId": "45ba8a73-dc6b-4457-e1ec-1be34705ec05"
      },
      "execution_count": null,
      "outputs": [
        {
          "output_type": "execute_result",
          "data": {
            "text/plain": [
              "'/content'"
            ],
            "application/vnd.google.colaboratory.intrinsic+json": {
              "type": "string"
            }
          },
          "metadata": {},
          "execution_count": 2
        }
      ]
    },
    {
      "cell_type": "code",
      "source": [
        "os.listdir('/content/')"
      ],
      "metadata": {
        "colab": {
          "base_uri": "https://localhost:8080/"
        },
        "id": "_kM6Hkxn9A8d",
        "outputId": "c568289d-bcb6-4d77-f7eb-35aa8bc5af64"
      },
      "execution_count": 11,
      "outputs": [
        {
          "output_type": "execute_result",
          "data": {
            "text/plain": [
              "['.config',\n",
              " 'sequences.fasta',\n",
              " 'coding_dna.txt',\n",
              " 'genomic_dna.txt',\n",
              " 'writing_a_fasta_file.py',\n",
              " 'writing_multiple_fasta_files.py',\n",
              " 'genomic_dna.py',\n",
              " 'noncoding_dna.txt',\n",
              " 'sample_data']"
            ]
          },
          "metadata": {},
          "execution_count": 11
        }
      ]
    },
    {
      "cell_type": "code",
      "source": [
        "os.system('mkdir /content/excercises')"
      ],
      "metadata": {
        "colab": {
          "base_uri": "https://localhost:8080/"
        },
        "id": "fWOGzOfV-mFE",
        "outputId": "143fe727-eacd-4509-cab1-8eab121d3e0f"
      },
      "execution_count": 13,
      "outputs": [
        {
          "output_type": "execute_result",
          "data": {
            "text/plain": [
              "0"
            ]
          },
          "metadata": {},
          "execution_count": 13
        }
      ]
    },
    {
      "cell_type": "code",
      "source": [
        "for i in ['sequences.fasta', 'coding_dna.txt', 'genomic_dna.txt', 'writing_a_fasta_file.py', 'writing_multiple_fasta_files.py', 'genomic_dna.py', 'noncoding_dna.txt']:\n",
        "  os.system('mv /content/{} /content/exercises/{}'.format(i,i))"
      ],
      "metadata": {
        "id": "9PHW63i88MJS"
      },
      "execution_count": 15,
      "outputs": []
    },
    {
      "cell_type": "code",
      "source": [
        "file_dir='/content/exercises'"
      ],
      "metadata": {
        "id": "s8arhXG6_lHw"
      },
      "execution_count": 16,
      "outputs": []
    },
    {
      "cell_type": "markdown",
      "source": [
        "## Reading and writing files"
      ],
      "metadata": {
        "id": "A-znXFpR2gVm"
      }
    },
    {
      "cell_type": "markdown",
      "metadata": {
        "id": "BIZDTJbkEM-R"
      },
      "source": [
        "### Splitting genomic DNA"
      ]
    },
    {
      "cell_type": "markdown",
      "metadata": {
        "id": "2PHmRy8ZEShj"
      },
      "source": [
        "Look in the chapter_3 folder for a file called genomic_dna.txt – it contains the same piece of genomic DNA that we were using in the final exercise from chapter 2. Write a program that will split the genomic DNA into coding and non-coding parts, and write these sequences to two separate files.  \n",
        "__Hint__: use your solution to the last exercise from chapter 2 as a starting point."
      ]
    },
    {
      "cell_type": "code",
      "execution_count": 17,
      "metadata": {
        "id": "1caGisq7Dj2o",
        "colab": {
          "base_uri": "https://localhost:8080/",
          "height": 53
        },
        "outputId": "a5b312c5-a893-4239-b5db-e293aa10c05a"
      },
      "outputs": [
        {
          "output_type": "execute_result",
          "data": {
            "text/plain": [
              "'ATCGATCGATCGATCGACTGACTAGTCATAGCTATGCATGTAGCTACTCGATCGATCGATCGATCGATCGATCGATCGATCGATCATGCTATCATCGATCGATATCGATGCATCGACTACTAT\\n'"
            ],
            "application/vnd.google.colaboratory.intrinsic+json": {
              "type": "string"
            }
          },
          "metadata": {},
          "execution_count": 17
        }
      ],
      "source": [
        "open_file=open('/content/exercises/genomic_dna.txt')\n",
        "content=open_file.read()\n",
        "content"
      ]
    },
    {
      "cell_type": "code",
      "source": [
        "dna=content.rstrip('\\n')\n",
        "dna"
      ],
      "metadata": {
        "colab": {
          "base_uri": "https://localhost:8080/",
          "height": 53
        },
        "id": "2dzrHEVRL7jy",
        "outputId": "7dcf3632-1d8b-4148-f3ef-89879b417d79"
      },
      "execution_count": 19,
      "outputs": [
        {
          "output_type": "execute_result",
          "data": {
            "text/plain": [
              "'ATCGATCGATCGATCGACTGACTAGTCATAGCTATGCATGTAGCTACTCGATCGATCGATCGATCGATCGATCGATCGATCGATCATGCTATCATCGATCGATATCGATGCATCGACTACTAT'"
            ],
            "application/vnd.google.colaboratory.intrinsic+json": {
              "type": "string"
            }
          },
          "metadata": {},
          "execution_count": 19
        }
      ]
    },
    {
      "cell_type": "code",
      "source": [
        "exon1=dna[0:62]\n",
        "exon2=dna[90:]\n",
        "code=open('code.txt','w')\n",
        "code.write(exon1+exon2)\n",
        "code.close()\n",
        "non_code=open('non_code.txt','w')\n",
        "non_code.write(dna[63:90])\n",
        "non_code.close()"
      ],
      "metadata": {
        "id": "eMjGVfX1MUp0"
      },
      "execution_count": 20,
      "outputs": []
    },
    {
      "cell_type": "markdown",
      "metadata": {
        "id": "mVv8TzOWEYnJ"
      },
      "source": [
        "### Writing a FASTA file"
      ]
    },
    {
      "cell_type": "markdown",
      "metadata": {
        "id": "NXI8CGLTEck0"
      },
      "source": [
        "FASTA file format is a commonly-used DNA and protein sequence file format. A single sequence in FASTA format looks like this:  \n",
        "\n",
        " >sequence_name  \n",
        " ATCGACTGATCGATCGTACGAT\n",
        "\n",
        "Where sequence_name is a header that describes the sequence (the greater-than symbol indicates the start of the header line). Often, the header contains an accession number that relates to the record for the sequence in a public sequence database. A single FASTA file can contain multiple sequences, like this:\n",
        " >sequence_one  \n",
        " ATCGATCGATCGATCGAT  \n",
        " >sequence_two  \n",
        " ACTAGCTAGCTAGCATCG  \n",
        " >sequence_three  \n",
        " ACTGCATCGATCGTACCT  \n",
        "\n",
        " Write a program that will create a FASTA file for the following three sequences – make sure that all sequences are in upper case and only contain the bases A, T, G and C.  \n",
        "\n",
        "Sequence header - DNA sequence  \n",
        "ABC123 - ATCGTACGATCGATCGATCGCTAGACGTATCG   \n",
        "DEF456 - actgatcgacgatcgatcgatcacgact   \n",
        "HIJ789 -  ACTGAC-ACTGT--ACTGTA----CATGTG"
      ]
    },
    {
      "cell_type": "code",
      "execution_count": 22,
      "metadata": {
        "id": "QrqzOiDsEdJh"
      },
      "outputs": [],
      "source": [
        "head1='ABC123'\n",
        "head2='DEF456'\n",
        "head3='HIJ789'\n",
        "seq1='ATCGTACGATCGATCGATCGCTAGACGTATCG'\n",
        "seq2='actgatcgacgatcgatcgatcacgact'\n",
        "seq3='ACTGAC-ACTGT--ACTGTA----CATGTG'"
      ]
    },
    {
      "cell_type": "code",
      "source": [
        "print('>'+head1+'\\n'+seq1)\n",
        "print('>'+head2+'\\n'+seq2.upper())\n",
        "print('>'+head3+'\\n'+seq3)"
      ],
      "metadata": {
        "colab": {
          "base_uri": "https://localhost:8080/"
        },
        "id": "H8DnIEENOpzy",
        "outputId": "0f8ad632-9af7-4bdc-d5e7-a49941cb8545"
      },
      "execution_count": 24,
      "outputs": [
        {
          "output_type": "stream",
          "name": "stdout",
          "text": [
            ">ABC123\n",
            "ATCGTACGATCGATCGATCGCTAGACGTATCG\n",
            ">DEF456\n",
            "ACTGATCGACGATCGATCGATCACGACT\n",
            ">HIJ789\n",
            "ACTGAC-ACTGT--ACTGTA----CATGTG\n"
          ]
        }
      ]
    },
    {
      "cell_type": "code",
      "source": [
        "output=open('sequences.fasta','w')\n",
        "output.write('>'+head1+'\\n'+seq1+'\\n')\n",
        "output.write('>'+head2+'\\n'+seq2.upper()+'\\n')\n",
        "output.write('>'+head3+'\\n'+seq3.replace('-','')+'\\n')\n",
        "output.close()"
      ],
      "metadata": {
        "id": "mqtMk8cBaUY3"
      },
      "execution_count": 26,
      "outputs": []
    },
    {
      "cell_type": "markdown",
      "metadata": {
        "id": "qlZz0CsQEgfV"
      },
      "source": [
        "### Writing multiple FASTA files"
      ]
    },
    {
      "cell_type": "markdown",
      "metadata": {
        "id": "P3Bx2W-DEi45"
      },
      "source": [
        "Use the data from the previous exercise, but instead of creating a single FASTA file, create three new FASTA files – one per sequence. The names of the FASTA files should be the same as the sequence header names, with the extension _.fasta_."
      ]
    },
    {
      "cell_type": "code",
      "execution_count": 29,
      "metadata": {
        "id": "rOWEEJc0udbp",
        "colab": {
          "base_uri": "https://localhost:8080/"
        },
        "outputId": "d1c285f6-0aa7-4876-acec-229876532290"
      },
      "outputs": [
        {
          "output_type": "execute_result",
          "data": {
            "text/plain": [
              "32"
            ]
          },
          "metadata": {},
          "execution_count": 29
        }
      ],
      "source": [
        "output1=open('ABC123.fasta','w')\n",
        "output1.write('>'+head1+'\\n'+seq1+'\\n')\n",
        "output2=open('DEF456.fasta','w')\n",
        "output2.write('>'+head2+'\\n'+seq2.upper()+'\\n')\n",
        "output3=open('HIJ789.fasta','w')\n",
        "output3.write('>'+head3+'\\n'+seq3.replace('-','')+'\\n')"
      ]
    },
    {
      "cell_type": "code",
      "source": [],
      "metadata": {
        "id": "tUvwJ923bmYo"
      },
      "execution_count": null,
      "outputs": []
    }
  ],
  "metadata": {
    "colab": {
      "provenance": []
    },
    "kernelspec": {
      "display_name": "Python 3",
      "name": "python3"
    },
    "language_info": {
      "name": "python"
    }
  },
  "nbformat": 4,
  "nbformat_minor": 0
}