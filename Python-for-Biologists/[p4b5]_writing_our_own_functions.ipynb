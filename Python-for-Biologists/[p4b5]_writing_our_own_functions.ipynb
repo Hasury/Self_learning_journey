{
  "nbformat": 4,
  "nbformat_minor": 0,
  "metadata": {
    "colab": {
      "provenance": []
    },
    "kernelspec": {
      "name": "python3",
      "display_name": "Python 3"
    },
    "language_info": {
      "name": "python"
    }
  },
  "cells": [
    {
      "cell_type": "markdown",
      "source": [
        "### Percentage of amino acid residues, part one"
      ],
      "metadata": {
        "id": "j9nnQq2fgUxD"
      }
    },
    {
      "cell_type": "markdown",
      "source": [
        "Write a function that takes two arguments – a protein sequence and an amino acid  residue code – and returns the percentage of the protein that the amino acid makes up. Use the following assertions to test your function:  \n",
        "`assert my_function(\"MSRSLLLRFLLFLLLLPPLP\", \"M\") == 5`  \n",
        "`assert my_function(\"MSRSLLLRFLLFLLLLPPLP\", \"r\") == 10`  \n",
        "`assert my_function(\"MSRSLLLRFLLFLLLLPPLP\", \"L\") == 50`  \n",
        "`assert my_function(\"MSRSLLLRFLLFLLLLPPLP\", \"Y\") == 0`  \n",
        "__Reminder__: if you're using Python 2 rather than Python 3, include this line at the top of your program:  \n",
        "`from __future__ import division`"
      ],
      "metadata": {
        "id": "J5o20wk4gdOS"
      }
    },
    {
      "cell_type": "code",
      "execution_count": 7,
      "metadata": {
        "id": "clmPGVl1q7hv"
      },
      "outputs": [],
      "source": [
        "def my_function(protein, aa):\n",
        "  protein=protein.upper()\n",
        "  aa=aa.upper()\n",
        "  aa_percentage=protein.count(aa)/len(protein)*100\n",
        "  return aa_percentage"
      ]
    },
    {
      "cell_type": "code",
      "source": [
        "assert my_function(\"MSRSLLLRFLLFLLLLPPLP\", \"M\") == 5\n",
        "assert my_function(\"MSRSLLLRFLLFLLLLPPLP\", \"r\") == 10\n",
        "assert my_function(\"MSRSLLLRFLLFLLLLPPLP\", \"L\") == 50\n",
        "assert my_function(\"MSRSLLLRFLLFLLLLPPLP\", \"Y\") == 0"
      ],
      "metadata": {
        "id": "bgdhTCyLnkhQ"
      },
      "execution_count": 14,
      "outputs": []
    },
    {
      "cell_type": "markdown",
      "source": [
        "### Percentage of amino acid residues, part two"
      ],
      "metadata": {
        "id": "W517VddYg-ur"
      }
    },
    {
      "cell_type": "markdown",
      "source": [
        "Modify the function from part one so that it accepts a list of amino acid residues rather than a single one. If no list is given, the function should return the percentage of hydrophobic amino acid residues (A, I, L, M, F, W, Y and V). Your function should pass the following assertions:  \n",
        "`assert my_function(\"MSRSLLLRFLLFLLLLPPLP\", [\"M\"]) == 5`  \n",
        "`assert my_function(\"MSRSLLLRFLLFLLLLPPLP\", ['M', 'L']) == 55`  \n",
        "`assert my_function(\"MSRSLLLRFLLFLLLLPPLP\", ['F', 'S', 'L']) == 70`  \n",
        "`assert my_function(\"MSRSLLLRFLLFLLLLPPLP\") == 65`  "
      ],
      "metadata": {
        "id": "adwcbTk2hH12"
      }
    },
    {
      "cell_type": "code",
      "source": [
        "def my_function(protein, list_of_aa=['A', 'I', 'L', 'M', 'F', 'W', 'Y', 'V']):\n",
        "  protein=protein.upper()\n",
        "  percentage=0\n",
        "  for aa in list_of_aa:\n",
        "    aa=aa.upper()\n",
        "    aa_percentage=protein.count(aa)/len(protein)*100\n",
        "    percentage+=aa_percentage\n",
        "  return percentage"
      ],
      "metadata": {
        "id": "_GXqOe2ChC9R"
      },
      "execution_count": 15,
      "outputs": []
    },
    {
      "cell_type": "code",
      "source": [
        "assert my_function(\"MSRSLLLRFLLFLLLLPPLP\", [\"M\"]) == 5\n",
        "assert my_function(\"MSRSLLLRFLLFLLLLPPLP\", ['M', 'L']) == 55\n",
        "assert my_function(\"MSRSLLLRFLLFLLLLPPLP\", ['F', 'S', 'L']) == 70\n",
        "assert my_function(\"MSRSLLLRFLLFLLLLPPLP\") == 65"
      ],
      "metadata": {
        "id": "5vhL38bexORd"
      },
      "execution_count": 16,
      "outputs": []
    }
  ]
}