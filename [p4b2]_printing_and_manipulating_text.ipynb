{
  "cells": [
    {
      "cell_type": "markdown",
      "id": "ac7710e1-0151-41fc-bff3-61dbea0efeb4",
      "metadata": {
        "id": "ac7710e1-0151-41fc-bff3-61dbea0efeb4"
      },
      "source": [
        "## Printing and manipulating text"
      ]
    },
    {
      "cell_type": "markdown",
      "id": "52353396-13f5-4b6c-8a99-2237169699f9",
      "metadata": {
        "id": "52353396-13f5-4b6c-8a99-2237169699f9"
      },
      "source": [
        "### Calculating AT content"
      ]
    },
    {
      "cell_type": "markdown",
      "id": "68f7349d-5d00-4564-9d3a-f9bac73ab7fa",
      "metadata": {
        "id": "68f7349d-5d00-4564-9d3a-f9bac73ab7fa"
      },
      "source": [
        "Here's a short DNA sequence:  \n",
        "\n",
        "ACTGATCGATTACGTATAGTATTTGCTATCATACATATATATCGATGCGTTCAT  \n",
        "\n",
        "Write a program that will print out the AT content of this DNA sequence.  \n",
        "Hint: you can use normal mathematical symbols like add (+), subtract (-), multiply (*), divide (/) and parentheses to carry out calculations on numbers in Python.  \n",
        "\n",
        "__Reminder__: if you're using Python 2 rather than Python 3, include this line at the top of your program:  \n",
        "from __ future __ import division"
      ]
    },
    {
      "cell_type": "code",
      "execution_count": null,
      "id": "261fdc2b-bb94-4f0e-8751-b4f320a79616",
      "metadata": {
        "execution": {
          "iopub.execute_input": "2024-07-15T04:21:57.918862Z",
          "iopub.status.busy": "2024-07-15T04:21:57.918391Z",
          "iopub.status.idle": "2024-07-15T04:21:57.924650Z",
          "shell.execute_reply": "2024-07-15T04:21:57.923729Z",
          "shell.execute_reply.started": "2024-07-15T04:21:57.918837Z"
        },
        "id": "261fdc2b-bb94-4f0e-8751-b4f320a79616",
        "outputId": "3db9f1bf-c923-404d-d3d4-9ae7a2e40408"
      },
      "outputs": [
        {
          "name": "stdout",
          "output_type": "stream",
          "text": [
            "a= 16\n",
            "t= 21\n",
            "at content= 0.6851851851851852\n"
          ]
        }
      ],
      "source": [
        "dna='ACTGATCGATTACGTATAGTATTTGCTATCATACATATATATCGATGCGTTCAT'\n",
        "a=dna.count('A')\n",
        "t=dna.count('T')\n",
        "result=(a+t)/len(dna)\n",
        "print('a=',a)\n",
        "print('t=',t)\n",
        "print('at content=',result)"
      ]
    },
    {
      "cell_type": "markdown",
      "id": "a39d9fa1-c27c-4a17-80e1-9fefd03529c5",
      "metadata": {
        "execution": {
          "iopub.execute_input": "2024-07-14T07:39:36.135973Z",
          "iopub.status.busy": "2024-07-14T07:39:36.134837Z",
          "iopub.status.idle": "2024-07-14T07:39:36.140525Z",
          "shell.execute_reply": "2024-07-14T07:39:36.139750Z",
          "shell.execute_reply.started": "2024-07-14T07:39:36.135901Z"
        },
        "id": "a39d9fa1-c27c-4a17-80e1-9fefd03529c5"
      },
      "source": [
        "### Complementing DNA"
      ]
    },
    {
      "cell_type": "markdown",
      "id": "ca2e5c30-7b0a-4186-bdb2-2bb58985dde6",
      "metadata": {
        "id": "ca2e5c30-7b0a-4186-bdb2-2bb58985dde6"
      },
      "source": [
        "Here's a short DNA sequence:  \n",
        "\n",
        "ACTGATCGATTACGTATAGTATTTGCTATCATACATATATATCGATGCGTTCAT  \n",
        "\n",
        "Write a program that will print the complement of this sequence."
      ]
    },
    {
      "cell_type": "code",
      "execution_count": null,
      "id": "206389ac-6824-4b25-8da4-76b901079a08",
      "metadata": {
        "execution": {
          "iopub.execute_input": "2024-07-15T07:03:30.523778Z",
          "iopub.status.busy": "2024-07-15T07:03:30.523382Z",
          "iopub.status.idle": "2024-07-15T07:03:30.550157Z",
          "shell.execute_reply": "2024-07-15T07:03:30.549090Z",
          "shell.execute_reply.started": "2024-07-15T07:03:30.523744Z"
        },
        "colab": {
          "base_uri": "https://localhost:8080/",
          "height": 35
        },
        "id": "206389ac-6824-4b25-8da4-76b901079a08",
        "outputId": "311bb613-d566-4e25-c38a-af6debce9c7c"
      },
      "outputs": [
        {
          "output_type": "execute_result",
          "data": {
            "text/plain": [
              "'TGACTAGCTAATGCATATCATAAACGATAGTATGTATATATAGCTACGCAAGTA'"
            ],
            "application/vnd.google.colaboratory.intrinsic+json": {
              "type": "string"
            }
          },
          "metadata": {},
          "execution_count": 15
        }
      ],
      "source": [
        "dna='ACTGATCGATTACGTATAGTATTTGCTATCATACATATATATCGATGCGTTCAT'\n",
        "cdna1=dna\n",
        "cdna1=cdna1.replace('A','a')\n",
        "cdna1=cdna1.replace('T','t')\n",
        "cdna1=cdna1.replace('C','c')\n",
        "cdna1=cdna1.replace('G','g')\n",
        "cdna=cdna1\n",
        "cdna=cdna.replace('a','T')\n",
        "cdna=cdna.replace('t','A')\n",
        "cdna=cdna.replace('c','G')\n",
        "cdna=cdna.replace('g','C')\n",
        "cdna"
      ]
    },
    {
      "cell_type": "code",
      "source": [
        "# flip the sequence around\n",
        "dna='ACTGATCGATTACGTATAGTATTTGCTATCATACATATATATCGATGCGTTCAT'\n",
        "cdna = dna[::-1]\n",
        "cdna = cdna.replace('A','t').replace('T','a').replace('C','g').replace('G','c').upper()\n",
        "cdna"
      ],
      "metadata": {
        "colab": {
          "base_uri": "https://localhost:8080/",
          "height": 35
        },
        "id": "L7RqBs0XV8nM",
        "outputId": "dad2f9bb-9ed4-4378-fa60-a6194beb13d3"
      },
      "id": "L7RqBs0XV8nM",
      "execution_count": null,
      "outputs": [
        {
          "output_type": "execute_result",
          "data": {
            "text/plain": [
              "'ATGAACGCATCGATATATATGTATGATAGCAAATACTATACGTAATCGATCAGT'"
            ],
            "application/vnd.google.colaboratory.intrinsic+json": {
              "type": "string"
            }
          },
          "metadata": {},
          "execution_count": 3
        }
      ]
    },
    {
      "cell_type": "markdown",
      "id": "34e5fa8f-6f32-4d86-a05b-693f461aa93a",
      "metadata": {
        "execution": {
          "iopub.execute_input": "2024-07-14T07:44:29.264281Z",
          "iopub.status.busy": "2024-07-14T07:44:29.263885Z",
          "iopub.status.idle": "2024-07-14T07:44:29.268659Z",
          "shell.execute_reply": "2024-07-14T07:44:29.267824Z",
          "shell.execute_reply.started": "2024-07-14T07:44:29.264247Z"
        },
        "id": "34e5fa8f-6f32-4d86-a05b-693f461aa93a"
      },
      "source": [
        "### Restriction fragment lengths"
      ]
    },
    {
      "cell_type": "markdown",
      "id": "ac814c2d-622f-4926-878a-d2cfad63d471",
      "metadata": {
        "id": "ac814c2d-622f-4926-878a-d2cfad63d471"
      },
      "source": [
        "Here's a short DNA sequence:  \n",
        "\n",
        "ACTGATCGATTACGTATAGTAGAATTCTATCATACATATATATCGATGCGTTCAT  \n",
        "\n",
        "The sequence contains a recognition site for the EcoRI restriction enzyme, which cuts at the motif G*AATTC (the position of the cut is indicated by an asterisk). Write a program which will calculate the size of the two fragments that will be produced when the DNA sequence is digested with EcoRI."
      ]
    },
    {
      "cell_type": "code",
      "execution_count": null,
      "id": "d0afb3d5-e208-4bb8-b414-68aa304db2e6",
      "metadata": {
        "id": "d0afb3d5-e208-4bb8-b414-68aa304db2e6"
      },
      "outputs": [],
      "source": [
        "dna='ACTGATCGATTACGTATAGTAGAATTCTATCATACATATATATCGATGCGTTCAT'"
      ]
    },
    {
      "cell_type": "code",
      "source": [
        "c=dna.count('GAATTC')\n",
        "c"
      ],
      "metadata": {
        "colab": {
          "base_uri": "https://localhost:8080/"
        },
        "id": "IaHQQJudbMws",
        "outputId": "f209da68-b6f5-4a57-811b-3d1851fd2135"
      },
      "id": "IaHQQJudbMws",
      "execution_count": null,
      "outputs": [
        {
          "output_type": "execute_result",
          "data": {
            "text/plain": [
              "1"
            ]
          },
          "metadata": {},
          "execution_count": 4
        }
      ]
    },
    {
      "cell_type": "code",
      "source": [
        "a=dna.find('GAATTC')\n",
        "a"
      ],
      "metadata": {
        "colab": {
          "base_uri": "https://localhost:8080/"
        },
        "id": "2y41nKdpa7LP",
        "outputId": "f667eca4-a7d0-4adb-e7e3-a80aa1703b53"
      },
      "id": "2y41nKdpa7LP",
      "execution_count": null,
      "outputs": [
        {
          "output_type": "execute_result",
          "data": {
            "text/plain": [
              "21"
            ]
          },
          "metadata": {},
          "execution_count": 3
        }
      ]
    },
    {
      "cell_type": "code",
      "source": [
        "first_str_len=len(dna[0:22])\n",
        "second_str_len=len(dna[22:])\n",
        "print(first_str_len)\n",
        "print(second_str_len)"
      ],
      "metadata": {
        "colab": {
          "base_uri": "https://localhost:8080/"
        },
        "id": "KYkXXt7cbLG-",
        "outputId": "eaddef20-1d11-4737-fcd6-1ec05ee79f77"
      },
      "id": "KYkXXt7cbLG-",
      "execution_count": null,
      "outputs": [
        {
          "output_type": "stream",
          "name": "stdout",
          "text": [
            "22\n",
            "33\n"
          ]
        }
      ]
    },
    {
      "cell_type": "markdown",
      "id": "eaef4400-33fb-429b-9c31-b739eaf593f3",
      "metadata": {
        "jp-MarkdownHeadingCollapsed": true,
        "id": "eaef4400-33fb-429b-9c31-b739eaf593f3"
      },
      "source": [
        "### Splicing out introns, part one"
      ]
    },
    {
      "cell_type": "markdown",
      "id": "ccb6fdc5-7f81-47a2-beb8-fb5b80a85f93",
      "metadata": {
        "id": "ccb6fdc5-7f81-47a2-beb8-fb5b80a85f93"
      },
      "source": [
        "Here's a short section of genomic DNA:  \n",
        "\n",
        "ATCGATCGATCGATCGACTGACTAGTCATAGCTATGCATGTAGCTACTCGATCGATCGATCGATCGATCGATCGATCGATCGATCATGCTATCATCGATCGATATCGATGCATCGACTACTAT  \n",
        "\n",
        "It comprises two exons and an intron. The first exon runs from the start of the sequence to the sixty-third character, and the second exon runs from the ninety- first character to the end of the sequence. Write a program that will print just the coding regions of the DNA sequence."
      ]
    },
    {
      "cell_type": "code",
      "execution_count": null,
      "id": "4512cae1-9c1a-4c38-8d59-d9ff7c2de7e2",
      "metadata": {
        "id": "4512cae1-9c1a-4c38-8d59-d9ff7c2de7e2",
        "colab": {
          "base_uri": "https://localhost:8080/"
        },
        "outputId": "914674e4-cc7a-4c02-9fc9-6ddbd2579c64"
      },
      "outputs": [
        {
          "output_type": "stream",
          "name": "stdout",
          "text": [
            "ATCGATCGATCGATCGACTGACTAGTCATAGCTATGCATGTAGCTACTCGATCGATCGATCGATCATCGATCGATATCGATGCATCGACTACTAT\n"
          ]
        }
      ],
      "source": [
        "dna=\"ATCGATCGATCGATCGACTGACTAGTCATAGCTATGCATGTAGCTACTCGATCGATCGATCGATCGATCGATCGATCGATCGATCATGCTATCATCGATCGATATCGATGCATCGACTACTAT\"\n",
        "exon1=dna[0:62]\n",
        "exon2=dna[90:]\n",
        "code=exon1+exon2\n",
        "print(code)"
      ]
    },
    {
      "cell_type": "markdown",
      "id": "13e466ab-8392-4f86-9329-2b5669642ef5",
      "metadata": {
        "execution": {
          "iopub.execute_input": "2024-07-14T07:46:26.455292Z",
          "iopub.status.busy": "2024-07-14T07:46:26.454909Z",
          "iopub.status.idle": "2024-07-14T07:46:26.459501Z",
          "shell.execute_reply": "2024-07-14T07:46:26.458639Z",
          "shell.execute_reply.started": "2024-07-14T07:46:26.455259Z"
        },
        "jp-MarkdownHeadingCollapsed": true,
        "id": "13e466ab-8392-4f86-9329-2b5669642ef5"
      },
      "source": [
        "### Splicing out introns, part two"
      ]
    },
    {
      "cell_type": "markdown",
      "id": "92f98667-6df8-44aa-8e22-6e582df1b487",
      "metadata": {
        "id": "92f98667-6df8-44aa-8e22-6e582df1b487"
      },
      "source": [
        "Using the data from part one, write a program that will calculate what percentage of the DNA sequence is coding.  \n",
        "\n",
        "__Reminder__: if you're using Python 2 rather than Python 3, include this line at the top of your program:  \n",
        "\n",
        "from __ future __ import division"
      ]
    },
    {
      "cell_type": "code",
      "execution_count": null,
      "id": "2eff97d5-133f-4be1-b4be-b9bccac60301",
      "metadata": {
        "id": "2eff97d5-133f-4be1-b4be-b9bccac60301",
        "colab": {
          "base_uri": "https://localhost:8080/"
        },
        "outputId": "ceeee818-742d-47c2-c759-90c528df0fe2"
      },
      "outputs": [
        {
          "output_type": "stream",
          "name": "stdout",
          "text": [
            "77.23577235772358\n"
          ]
        }
      ],
      "source": [
        "dna=\"ATCGATCGATCGATCGACTGACTAGTCATAGCTATGCATGTAGCTACTCGATCGATCGATCGATCGATCGATCGATCGATCGATCATGCTATCATCGATCGATATCGATGCATCGACTACTAT\"\n",
        "fraction=len(code)/len(dna)\n",
        "percent=fraction*100\n",
        "print(str(percent))"
      ]
    },
    {
      "cell_type": "markdown",
      "id": "30edd911-b200-4749-ae78-776fde49b3f8",
      "metadata": {
        "jp-MarkdownHeadingCollapsed": true,
        "id": "30edd911-b200-4749-ae78-776fde49b3f8"
      },
      "source": [
        "### Splicing out introns, part three"
      ]
    },
    {
      "cell_type": "markdown",
      "id": "a25eab15-8442-4305-aceb-dd2bdf5c8456",
      "metadata": {
        "id": "a25eab15-8442-4305-aceb-dd2bdf5c8456"
      },
      "source": [
        "Using the data from part one, write a program that will print out the original genomic DNA sequence with coding bases in uppercase and non-coding bases in lowercase."
      ]
    },
    {
      "cell_type": "code",
      "execution_count": null,
      "id": "c503e5ce-d357-4682-a471-b79303f4f5a0",
      "metadata": {
        "id": "c503e5ce-d357-4682-a471-b79303f4f5a0",
        "colab": {
          "base_uri": "https://localhost:8080/"
        },
        "outputId": "13551dec-97b4-49ac-e7eb-672bf0757b52"
      },
      "outputs": [
        {
          "output_type": "stream",
          "name": "stdout",
          "text": [
            "ATCGATCGATCGATCGACTGACTAGTCATAGCTATGCATGTAGCTACTCGATCGATCGATCGatcgatcgatcgatcgatcgatcatgctATCATCGATCGATATCGATGCATCGACTACTAT\n"
          ]
        }
      ],
      "source": [
        "dna=\"ATCGATCGATCGATCGACTGACTAGTCATAGCTATGCATGTAGCTACTCGATCGATCGATCGATCGATCGATCGATCGATCGATCATGCTATCATCGATCGATATCGATGCATCGACTACTAT\"\n",
        "dna_fixed=dna[0:62]+dna[62:90].lower()+dna[90:]\n",
        "print(dna_fixed)"
      ]
    }
  ],
  "metadata": {
    "kernelspec": {
      "display_name": "Python 3 (ipykernel)",
      "language": "python",
      "name": "python3"
    },
    "language_info": {
      "codemirror_mode": {
        "name": "ipython",
        "version": 3
      },
      "file_extension": ".py",
      "mimetype": "text/x-python",
      "name": "python",
      "nbconvert_exporter": "python",
      "pygments_lexer": "ipython3",
      "version": "3.10.12"
    },
    "colab": {
      "provenance": []
    }
  },
  "nbformat": 4,
  "nbformat_minor": 5
}