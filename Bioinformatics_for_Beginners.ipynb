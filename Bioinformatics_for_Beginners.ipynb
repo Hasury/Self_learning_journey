{
  "nbformat": 4,
  "nbformat_minor": 0,
  "metadata": {
    "colab": {
      "provenance": [],
      "collapsed_sections": [
        "G0311CgbWyXE",
        "8b3byxx8W2f2",
        "7_8WxuhBW6ex",
        "rmUzhIhxXHcD",
        "CcmB0JPaXKjV",
        "nXMCZGwwXNy6",
        "WrAU_vl1cjO9",
        "kab-wwvPcpJq",
        "lBmWe8JqcslV",
        "07iruYFVcwUt",
        "Le1D34Hxc0rK",
        "Ur_wLtx9dC2L",
        "VdnJBVOOdF4x",
        "aedCTLUGdJ6W",
        "aqgTvG4-dM7r",
        "Sffr6pFIdP1y",
        "wshbRoqJdUJD",
        "3fArIuPFdXAG",
        "0bhcywEbdZlj",
        "9h2zYqMhdht7",
        "dJ-a8Mv2dkUe",
        "rUQB8PvWdm-_",
        "s4Vd-CUfdqM2",
        "_1I3clNcdd7t",
        "gji9ZCVXdwXj",
        "MACRy62mdzZP",
        "rxQJHFbGtfVV",
        "nFgh9o1V08n9"
      ],
      "authorship_tag": "ABX9TyNakz7RoVgnjoHDIbKig7oP",
      "include_colab_link": true
    },
    "kernelspec": {
      "name": "python3",
      "display_name": "Python 3"
    },
    "language_info": {
      "name": "python"
    }
  },
  "cells": [
    {
      "cell_type": "markdown",
      "metadata": {
        "id": "view-in-github",
        "colab_type": "text"
      },
      "source": [
        "<a href=\"https://colab.research.google.com/github/Hasury/Self_learning_journey/blob/main/Bioinformatics_for_Beginners.ipynb\" target=\"_parent\"><img src=\"https://colab.research.google.com/assets/colab-badge.svg\" alt=\"Open In Colab\"/></a>"
      ]
    },
    {
      "cell_type": "markdown",
      "source": [
        "### REPLICATION"
      ],
      "metadata": {
        "id": "OeroZyHvqLoq"
      }
    },
    {
      "cell_type": "markdown",
      "source": [
        "##### ReverseComplement(Pattern)"
      ],
      "metadata": {
        "id": "G0311CgbWyXE"
      }
    },
    {
      "cell_type": "code",
      "execution_count": null,
      "metadata": {
        "id": "mMOdPO6mp5Oz"
      },
      "outputs": [],
      "source": [
        "# Input:  A DNA string Pattern\n",
        "# Output: The reverse complement of Pattern\n",
        "def ReverseComplement(Pattern):\n",
        "    # your code here\n",
        "    reverse_pattern = Reverse(Pattern) # reverse all letters in a string\n",
        "    complement_pattern = Complement(Pattern) # complement each letter in a string\n",
        "    return Pattern\n",
        "# Copy your Reverse() function here.\n",
        "def Reverse(Pattern):\n",
        "    # your code here\n",
        "    reverse=Pattern[::-1]\n",
        "    return reverse\n",
        "# Copy your Complement() function here.\n",
        "def Complement(Pattern):\n",
        "    # your code here\n",
        "    mediate=Pattern.replace('A','a').replace('T','t').replace('G','g').replace('C','c')\n",
        "    complement=mediate.replace('a','T').replace('t','A').replace('g','C').replace('c','G')\n",
        "    return complement"
      ]
    },
    {
      "cell_type": "markdown",
      "source": [
        "##### PatternMatching(Pattern, Genome)"
      ],
      "metadata": {
        "id": "8b3byxx8W2f2"
      }
    },
    {
      "cell_type": "code",
      "source": [
        "# fill in your PatternMatching() function along with any subroutines that you need.\n",
        "def PatternMatching(Pattern, Genome):\n",
        "    positions = [] # output variable\n",
        "    for i in range(len(Genome)-len(Pattern)+1):\n",
        "        if Genome[i:i+len(Pattern)] == Pattern:\n",
        "            positions.append(i)\n",
        "    # your code here\n",
        "    return positions"
      ],
      "metadata": {
        "id": "Pmh4mkfGqCil"
      },
      "execution_count": null,
      "outputs": []
    },
    {
      "cell_type": "markdown",
      "source": [
        "##### PatternCount(Text,Pattern)"
      ],
      "metadata": {
        "id": "7_8WxuhBW6ex"
      }
    },
    {
      "cell_type": "code",
      "source": [
        "def PatternCount(Text,Pattern):\n",
        "    count=0\n",
        "    for i in range(len(Text)-len(Pattern)+1):\n",
        "        if Text[i:i+len(Pattern)]==Pattern:\n",
        "            count = count+1\n",
        "    return count"
      ],
      "metadata": {
        "id": "gk2BrbMWqyVx"
      },
      "execution_count": null,
      "outputs": []
    },
    {
      "cell_type": "markdown",
      "source": [
        "##### FrequencyMap(Text, k)"
      ],
      "metadata": {
        "id": "rmUzhIhxXHcD"
      }
    },
    {
      "cell_type": "code",
      "source": [
        "# Insert your completed FrequencyMap() function here.\n",
        "def FrequencyMap(Text, k):\n",
        "    freq = {}\n",
        "    n = len(Text)\n",
        "    for i in range(n-k+1):\n",
        "        Pattern = Text[i:i+k]\n",
        "        freq[Pattern] = 0\n",
        "    # add another for loop here to range over each k-mer Pattern of text and increase freq[Pattern] by 1 each time\n",
        "        for i in range(n-k+1):\n",
        "            if Text[i:i+k]==Pattern:\n",
        "                freq[Pattern] = freq[Pattern] + 1\n",
        "    return freq"
      ],
      "metadata": {
        "id": "WjqcYPOuh7gK"
      },
      "execution_count": null,
      "outputs": []
    },
    {
      "cell_type": "markdown",
      "source": [
        "##### FrequentWords(Text, k)"
      ],
      "metadata": {
        "id": "CcmB0JPaXKjV"
      }
    },
    {
      "cell_type": "code",
      "source": [
        "# Input:  A string Text and an integer k\n",
        "# Output: A list containing all most frequent k-mers in Text\n",
        "def FrequentWords(Text, k):\n",
        "    words = []\n",
        "    freq = FrequencyMap(Text, k)\n",
        "    m = max(freq.values())\n",
        "    for key in freq:\n",
        "        if freq[key]==m:\n",
        "            words.append(key)\n",
        "    return words"
      ],
      "metadata": {
        "id": "GPwvhby5iH9C"
      },
      "execution_count": null,
      "outputs": []
    },
    {
      "cell_type": "markdown",
      "source": [
        "##### FasterSymbolArray(Genome, symbol)"
      ],
      "metadata": {
        "id": "nXMCZGwwXNy6"
      }
    },
    {
      "cell_type": "code",
      "source": [
        "# Input:  Strings Genome and symbol\n",
        "# Output: FasterSymbolArray(Genome, symbol)\n",
        "def FasterSymbolArray(Genome, symbol):\n",
        "    array = {}\n",
        "    # your code here\n",
        "    n = len(Genome)\n",
        "    ExtendedGenome = Genome + Genome[0:n//2]\n",
        "\n",
        "    # look at the first half of Genome to compute first array value\n",
        "    array[0] = PatternCount(symbol, Genome[0:n//2])\n",
        "\n",
        "    for i in range(1, n):\n",
        "        # start by setting the current array value equal to the previous array value\n",
        "        array[i] = array[i-1]\n",
        "\n",
        "        # the current array value can differ from the previous array value by at most 1\n",
        "        if ExtendedGenome[i-1] == symbol:\n",
        "            array[i] = array[i]-1\n",
        "        if ExtendedGenome[i+(n//2)-1] == symbol:\n",
        "            array[i] = array[i]+1\n",
        "    return array"
      ],
      "metadata": {
        "id": "Y3wnXUFXqfnv"
      },
      "execution_count": null,
      "outputs": []
    },
    {
      "cell_type": "markdown",
      "source": [
        "##### SkewArray(Genome)"
      ],
      "metadata": {
        "id": "WrAU_vl1cjO9"
      }
    },
    {
      "cell_type": "code",
      "source": [
        "# Input:  A String Genome\n",
        "# Output: The skew array of Genome as a list.\n",
        "def SkewArray(Genome):\n",
        "    # your code here\n",
        "    # Initialize the skew array with the first value of 0\n",
        "    # Create a list and start with the initial skew value of 0\n",
        "    skew=[0]\n",
        "    n = len(Genome)\n",
        "    for i in range(n):\n",
        "        if Genome[i]=='G':\n",
        "            skew.append(skew[i]+1)\n",
        "        elif Genome[i]=='C':\n",
        "            skew.append(skew[i]-1)\n",
        "        else:\n",
        "            skew.append(skew[i])\n",
        "    return skew"
      ],
      "metadata": {
        "id": "mvB0h-gNrJVU"
      },
      "execution_count": null,
      "outputs": []
    },
    {
      "cell_type": "markdown",
      "source": [
        "##### MinimumSkew(Genome)"
      ],
      "metadata": {
        "id": "kab-wwvPcpJq"
      }
    },
    {
      "cell_type": "code",
      "source": [
        "# Input:  A DNA string Genome\n",
        "# Output: A list containing all integers i minimizing Skew(Prefix_i(Text)) over all values of i (from 0 to |Genome|)\n",
        "def MinimumSkew(Genome):\n",
        "    positions = [] # output variable\n",
        "    # your code here\n",
        "    skew=SkewArray(Genome)\n",
        "    min_value=min(skew)\n",
        "    for i in range(len(skew)):\n",
        "        if skew[i]==min_value:\n",
        "            positions.append(i)\n",
        "    return positions"
      ],
      "metadata": {
        "id": "QzHKjFczrOm_"
      },
      "execution_count": null,
      "outputs": []
    },
    {
      "cell_type": "markdown",
      "source": [
        "##### HammingDistance(p, q)"
      ],
      "metadata": {
        "id": "lBmWe8JqcslV"
      }
    },
    {
      "cell_type": "code",
      "source": [
        "# Input:  Two strings p and q\n",
        "# Output: An integer value representing the Hamming Distance between p and q.\n",
        "def HammingDistance(p, q):\n",
        "    # your code here\n",
        "    hamm_dis=0\n",
        "    for i in range(len(p)):\n",
        "        if p[i]!=q[i]:\n",
        "            hamm_dis=hamm_dis+1\n",
        "    return hamm_dis"
      ],
      "metadata": {
        "id": "dNf7DT62rUDQ"
      },
      "execution_count": null,
      "outputs": []
    },
    {
      "cell_type": "markdown",
      "source": [
        "##### ApproximatePatternMatching(Text, Pattern, d)"
      ],
      "metadata": {
        "id": "07iruYFVcwUt"
      }
    },
    {
      "cell_type": "code",
      "source": [
        "# Input:  Strings Pattern and Text along with an integer d\n",
        "# Output: A list containing all starting positions where Pattern appears\n",
        "# as a substring of Text with at most d mismatches\n",
        "def ApproximatePatternMatching(Text, Pattern, d):\n",
        "    positions = [] # initializing list of positions\n",
        "    # your code here\n",
        "    for i in range (len(Text)-len(Pattern)+1):\n",
        "        hamm_diss=HammingDistance(Text[i:i+len(Pattern)], Pattern)\n",
        "        if hamm_diss <= d:\n",
        "            positions.append(i)\n",
        "    return positions"
      ],
      "metadata": {
        "id": "AeoGdxCcrxwt"
      },
      "execution_count": null,
      "outputs": []
    },
    {
      "cell_type": "markdown",
      "source": [
        "##### ApproximatePatternCount(Pattern, Text, d)"
      ],
      "metadata": {
        "id": "Le1D34Hxc0rK"
      }
    },
    {
      "cell_type": "code",
      "source": [
        "# Input:  Strings Pattern and Text, and an integer d\n",
        "# Output: The number of times Pattern appears in Text with at most d mismatches\n",
        "def ApproximatePatternCount(Pattern, Text, d):\n",
        "    count = 0 # initialize count variable\n",
        "    for i in range (len(Text)-len(Pattern)+1):\n",
        "        hamm_diss=HammingDistance(Text[i:i+len(Pattern)], Pattern)\n",
        "        if hamm_diss <= d:\n",
        "            count+=1\n",
        "    return count"
      ],
      "metadata": {
        "id": "XhOwikQ5ryfZ"
      },
      "execution_count": null,
      "outputs": []
    },
    {
      "cell_type": "code",
      "source": [
        "import sys\n",
        "# read input directly from the command line\n",
        "# lines[0] is the main DNA sequence (text),\n",
        "# lines[1] is the pattern to search for,\n",
        "# and int(lines[2]) is the maximum number of mismatches (d) allowed\n",
        "lines = sys.stdin.read().splitlines()\n",
        "print(ApproximatePatternCount(lines[0],lines[1],int(lines[2])))"
      ],
      "metadata": {
        "id": "SkOEhJ1fsFZ8"
      },
      "execution_count": null,
      "outputs": []
    },
    {
      "cell_type": "markdown",
      "source": [
        "### MOTIFS"
      ],
      "metadata": {
        "id": "oviBCoINqPyA"
      }
    },
    {
      "cell_type": "markdown",
      "source": [
        "##### Count(Motifs)"
      ],
      "metadata": {
        "id": "Ur_wLtx9dC2L"
      }
    },
    {
      "cell_type": "code",
      "source": [
        "# Input:  A set of kmers Motifs\n",
        "# Output: Count(Motifs)\n",
        "def Count(Motifs):\n",
        "    count = {}\n",
        "    k=len(Motifs[0])\n",
        "    for symbol in \"ACGT\":\n",
        "        count[symbol] = []\n",
        "        for j in range(k):\n",
        "             count[symbol].append(0)\n",
        "    t = len(Motifs)\n",
        "    for i in range(t):\n",
        "        for j in range(k):\n",
        "            symbol = Motifs[i][j]\n",
        "            count[symbol][j] += 1\n",
        "    return count"
      ],
      "metadata": {
        "id": "W_Vz_xEmsvja"
      },
      "execution_count": null,
      "outputs": []
    },
    {
      "cell_type": "markdown",
      "source": [
        "##### Profile(Motifs)"
      ],
      "metadata": {
        "id": "VdnJBVOOdF4x"
      }
    },
    {
      "cell_type": "code",
      "source": [
        "# Input:  A list of kmers Motifs\n",
        "# Output: the profile matrix of Motifs, as a dictionary of lists.\n",
        "def Profile(Motifs):\n",
        "    t = len(Motifs)\n",
        "    k = len(Motifs[0])\n",
        "    profile = {}\n",
        "    count=Count(Motifs)\n",
        "    for symbol in \"ATCG\":\n",
        "        profile[symbol]=[]\n",
        "        for j in range(k):\n",
        "            profile[symbol].append(count[symbol][j]/t)\n",
        "    return profile"
      ],
      "metadata": {
        "id": "9qu5qqposwhp"
      },
      "execution_count": null,
      "outputs": []
    },
    {
      "cell_type": "markdown",
      "source": [
        "##### Consensus(Motifs)"
      ],
      "metadata": {
        "id": "aedCTLUGdJ6W"
      }
    },
    {
      "cell_type": "code",
      "source": [
        "# Input:  A set of kmers Motifs\n",
        "# Output: A consensus string of Motifs.\n",
        "def Consensus(Motifs):\n",
        "    k = len(Motifs[0])\n",
        "    count = Count(Motifs)\n",
        "    consensus = \"\"\n",
        "    for j in range(k):\n",
        "        m = 0\n",
        "        frequentSymbol = \"\"\n",
        "        for symbol in \"ACGT\":\n",
        "            if count[symbol][j] > m:\n",
        "                m = count[symbol][j]\n",
        "                frequentSymbol = symbol\n",
        "        consensus += frequentSymbol\n",
        "    return consensus"
      ],
      "metadata": {
        "id": "CaSTDKqYtH-r"
      },
      "execution_count": null,
      "outputs": []
    },
    {
      "cell_type": "markdown",
      "source": [
        "##### Score(Motifs)"
      ],
      "metadata": {
        "id": "aqgTvG4-dM7r"
      }
    },
    {
      "cell_type": "code",
      "source": [
        "# Input:  A set of k-mers Motifs\n",
        "# Output: The score of these k-mers.\n",
        "def Score(Motifs):\n",
        "    score=0\n",
        "    count=Count(Motifs)\n",
        "    consensus=Consensus(Motifs)\n",
        "    k=len(Motifs[0])\n",
        "    t=len(Motifs)\n",
        "    for j in range(k):\n",
        "        for symbol in\"ATGC\":\n",
        "            if symbol!=consensus[j]:\n",
        "                score=score+count[symbol][j]\n",
        "    return score"
      ],
      "metadata": {
        "id": "wzbr1yQ8tMWk"
      },
      "execution_count": null,
      "outputs": []
    },
    {
      "cell_type": "markdown",
      "source": [
        "##### Pr(Text, Profile)"
      ],
      "metadata": {
        "id": "Sffr6pFIdP1y"
      }
    },
    {
      "cell_type": "code",
      "source": [
        "# Input:  String Text and profile matrix Profile\n",
        "# Output: Pr(Text, Profile)\n",
        "def Pr(Text, Profile):\n",
        "    probability=1\n",
        "    for i in range(len(Text)):\n",
        "        probability*=Profile[Text[i]][i]\n",
        "    return probability"
      ],
      "metadata": {
        "id": "YA2N9nVqtV9H"
      },
      "execution_count": null,
      "outputs": []
    },
    {
      "cell_type": "markdown",
      "source": [
        "##### ProfileMostProbableKmer(text, k, profile)"
      ],
      "metadata": {
        "id": "wshbRoqJdUJD"
      }
    },
    {
      "cell_type": "code",
      "source": [
        "# Write your ProfileMostProbableKmer() function here.\n",
        "# The profile matrix assumes that the first row corresponds to A, the second corresponds to C,\n",
        "# the third corresponds to G, and the fourth corresponds to T.\n",
        "# You should represent the profile matrix as a dictionary whose keys are 'A', 'C', 'G', and 'T' and whose values are lists of floats\n",
        "def ProfileMostProbableKmer(text, k, profile):\n",
        "    n=len(text)\n",
        "    max_p=-1\n",
        "    most_probable=text[:k]\n",
        "    for i in range(n-k+1):\n",
        "        k_mer=text[i:i+k]\n",
        "        p=Pr(k_mer,profile)\n",
        "        if p>max_p:\n",
        "            max_p=p\n",
        "            most_probable=k_mer\n",
        "    return most_probable"
      ],
      "metadata": {
        "id": "6JfOJfCetXGC"
      },
      "execution_count": null,
      "outputs": []
    },
    {
      "cell_type": "markdown",
      "source": [
        "##### GreedyMotifSearch(Dna, k, t)"
      ],
      "metadata": {
        "id": "3fArIuPFdXAG"
      }
    },
    {
      "cell_type": "code",
      "source": [
        "# Input:  A list of kmers Dna, and integers k and t (where t is the number of kmers in Dna)\n",
        "# Output: GreedyMotifSearch(Dna, k, t)\n",
        "def GreedyMotifSearch(Dna, k, t):\n",
        "    # type your GreedyMotifSearch code here.\n",
        "    BestMotifs = []\n",
        "    for i in range(0, t):\n",
        "        BestMotifs.append(Dna[i][0:k])\n",
        "    n = len(Dna[0])\n",
        "    for i in range(n-k+1):\n",
        "        Motifs = []\n",
        "        Motifs.append(Dna[0][i:i+k])\n",
        "        for j in range(1, t):\n",
        "            P = Profile(Motifs[0:j])\n",
        "            Motifs.append(ProfileMostProbableKmer(Dna[j], k, P))\n",
        "        if Score(Motifs) < Score(BestMotifs):\n",
        "            BestMotifs = Motifs\n",
        "    return BestMotifs"
      ],
      "metadata": {
        "id": "Fvdur3KUteEd"
      },
      "execution_count": null,
      "outputs": []
    },
    {
      "cell_type": "markdown",
      "source": [
        "##### CountWithPseudocounts(Motifs)"
      ],
      "metadata": {
        "id": "0bhcywEbdZlj"
      }
    },
    {
      "cell_type": "code",
      "source": [
        "# Input:  A set of kmers Motifs\n",
        "# Output: CountWithPseudocounts(Motifs)\n",
        "def CountWithPseudocounts(Motifs):\n",
        "    t = len(Motifs)\n",
        "    k = len(Motifs[0])\n",
        "    count={}\n",
        "    # insert your code here\n",
        "    for symbol in \"ACGT\":\n",
        "        count[symbol]=[]\n",
        "        for j in range(k):\n",
        "            count[symbol].append(1)\n",
        "    for i in range(t):\n",
        "        for j in range(k):\n",
        "            symbol=Motifs[i][j]\n",
        "            count[symbol][j]+=1\n",
        "    return count"
      ],
      "metadata": {
        "id": "Y0a22mCcuIUj"
      },
      "execution_count": null,
      "outputs": []
    },
    {
      "cell_type": "markdown",
      "source": [
        "##### ProfileWithPseudocounts(Motifs)"
      ],
      "metadata": {
        "id": "9h2zYqMhdht7"
      }
    },
    {
      "cell_type": "code",
      "source": [
        "# Input:  A set of kmers Motifs\n",
        "# Output: ProfileWithPseudocounts(Motifs)\n",
        "def ProfileWithPseudocounts(Motifs):\n",
        "    t = len(Motifs)\n",
        "    k = len(Motifs[0])\n",
        "    profile = {} # output variable\n",
        "    # your code here\n",
        "    count=CountWithPseudocounts(Motifs)\n",
        "    for symbol in \"ACGT\":\n",
        "        profile[symbol]=[]\n",
        "        for j in range(k):\n",
        "            profile[symbol].append(count[symbol][j]/(t+4))\n",
        "    return profile"
      ],
      "metadata": {
        "id": "VTnDk886uJEb"
      },
      "execution_count": null,
      "outputs": []
    },
    {
      "cell_type": "markdown",
      "source": [
        "##### GreedyMotifSearchWithPseudocounts(Dna, k, t)"
      ],
      "metadata": {
        "id": "dJ-a8Mv2dkUe"
      }
    },
    {
      "cell_type": "code",
      "source": [
        "# Input:  A list of kmers Dna, and integers k and t (where t is the number of kmers in Dna)\n",
        "# Output: GreedyMotifSearch(Dna, k, t)\n",
        "def GreedyMotifSearchWithPseudocounts(Dna, k, t):\n",
        "    BestMotifs = [] # output variable\n",
        "    # your code here\n",
        "    for i in range(0,t):\n",
        "        BestMotifs.append(Dna[i][0:k])\n",
        "    n=len(Dna[0])\n",
        "    for i in range(n-k+1):\n",
        "        Motifs=[]\n",
        "        Motifs.append(Dna[0][i:i+k])\n",
        "        for j in range(1,t):\n",
        "            P=ProfileWithPseudocounts(Motifs[0:j])\n",
        "            Motifs.append(ProfileMostProbableKmer(Dna[j], k, P))\n",
        "        if Score(Motifs) < Score(BestMotifs):\n",
        "            BestMotifs=Motifs\n",
        "    return BestMotifs"
      ],
      "metadata": {
        "id": "v2_Ea3WxuORr"
      },
      "execution_count": null,
      "outputs": []
    },
    {
      "cell_type": "markdown",
      "source": [
        "##### Motifs(Profile, Dna)"
      ],
      "metadata": {
        "id": "rUQB8PvWdm-_"
      }
    },
    {
      "cell_type": "code",
      "source": [
        "# Input:  A profile matrix Profile and a list of strings Dna\n",
        "# Output: Motifs(Profile, Dna)\n",
        "def Motifs(Profile, Dna):\n",
        "    # insert your code here\n",
        "    motifs=[]\n",
        "    n=len(Dna)\n",
        "    k=len(Profile[\"A\"]) # the length of the string has already been determined by Profile\n",
        "    for i in range(n):\n",
        "        most_prob=ProfileMostProbableKmer(Dna[i], k, Profile)\n",
        "        motifs.append(most_prob)\n",
        "    return motifs"
      ],
      "metadata": {
        "id": "VY5BHZAtu6uy"
      },
      "execution_count": null,
      "outputs": []
    },
    {
      "cell_type": "code",
      "source": [
        "motifs=['TGA', 'GTT', 'GAA', 'TGT']\n",
        "text=['TGACGTTC', 'TAAGAGTT', 'GGACGAAA', 'CTGTTCGC']\n",
        "profile=Profile(motifs)\n",
        "Motifs(profile,text)"
      ],
      "metadata": {
        "colab": {
          "base_uri": "https://localhost:8080/"
        },
        "id": "lS-dJi47jeTA",
        "outputId": "003e5e11-9f2c-4326-cd51-96d777386d64"
      },
      "execution_count": null,
      "outputs": [
        {
          "output_type": "execute_result",
          "data": {
            "text/plain": [
              "['TGA', 'TAA', 'GGA', 'TGT']"
            ]
          },
          "metadata": {},
          "execution_count": 26
        }
      ]
    },
    {
      "cell_type": "markdown",
      "source": [
        "##### RandomMotifs(Dna, k, t)"
      ],
      "metadata": {
        "id": "s4Vd-CUfdqM2"
      }
    },
    {
      "cell_type": "code",
      "source": [
        "# import Python's 'random' module here\n",
        "import random\n",
        "# Input:  A list of strings Dna, and integers k and t\n",
        "# Output: RandomMotifs(Dna, k, t)\n",
        "# HINT:   You might not actually need to use t since t = len(Dna), but you may find it convenient\n",
        "def RandomMotifs(Dna, k, t):\n",
        "    # place your code here.\n",
        "    ran=[]\n",
        "    n=len(Dna[0])\n",
        "    for dna in Dna:\n",
        "        motifs=[]\n",
        "        r=random.randint(0, n-k) # random.randint(a, b) includes both a and b\n",
        "        ran.append(dna[r:r+k])\n",
        "    return ran"
      ],
      "metadata": {
        "id": "IVJQTACLpVei"
      },
      "execution_count": null,
      "outputs": []
    },
    {
      "cell_type": "markdown",
      "source": [
        "##### RandomizedMotifSearch(Dna, k, t)"
      ],
      "metadata": {
        "id": "_1I3clNcdd7t"
      }
    },
    {
      "cell_type": "code",
      "source": [
        "# import the random package here\n",
        "import random\n",
        "# Input:  Positive integers k and t, followed by a list of strings Dna\n",
        "# Output: RandomizedMotifSearch(Dna, k, t)\n",
        "def RandomizedMotifSearch(Dna, k, t):\n",
        "    # insert your code here\n",
        "    M = RandomMotifs(Dna, k, t)\n",
        "    BestMotifs = M\n",
        "    while True:\n",
        "        Profile = ProfileWithPseudocounts(M)\n",
        "        M = Motifs(Profile, Dna)\n",
        "        if Score(M) < Score(BestMotifs):\n",
        "            BestMotifs = M\n",
        "        else:\n",
        "            return BestMotifs\n",
        "\n",
        "# Insert necessary subroutines here, including RandomMotifs(), ProfileWithPseudocounts(), Motifs(), Score(),\n",
        "# and any subroutines that these functions need.\n",
        "def RandomMotifs(Dna, k, t):\n",
        "    # place your code here.\n",
        "    ran=[]\n",
        "    n=len(Dna[0])\n",
        "    for dna in Dna:\n",
        "        r=random.randint(0, n-k)\n",
        "        ran.append(dna[r:r+k])\n",
        "    return ran\n",
        "def CountWithPseudocounts(Motifs):\n",
        "    t = len(Motifs)\n",
        "    k = len(Motifs[0])\n",
        "    # output variable\n",
        "    # your code here\n",
        "    count = {symbol:[1]*k for symbol in \"ACGT\"}\n",
        "    for i in range(t):\n",
        "        for j in range(k):\n",
        "            symbol=Motifs[i][j]\n",
        "            count[symbol][j]+=1\n",
        "    return count\n",
        "def ProfileWithPseudocounts(Motifs):\n",
        "    t = len(Motifs)\n",
        "    k = len(Motifs[0])\n",
        "    profile = {} # output variable\n",
        "    # your code here\n",
        "    count=CountWithPseudocounts(Motifs)\n",
        "    for symbol in \"ACGT\":\n",
        "        profile[symbol]=[]\n",
        "        for j in range(k):\n",
        "            profile[symbol].append(count[symbol][j]/(t+4))\n",
        "    return profile\n",
        "def Count(Motifs):\n",
        "    t = len(Motifs)\n",
        "    k = len(Motifs[0])\n",
        "    count = {symbol:[0]*k for symbol in \"ACGT\"}\n",
        "    for i in range(t):\n",
        "        for j in range(k):\n",
        "            symbol=Motifs[i][j]\n",
        "            count[symbol][j]+=1\n",
        "    return count\n",
        "def Score(Motifs):\n",
        "    score=0\n",
        "    count=Count(Motifs)\n",
        "    consensus=Consensus(Motifs)\n",
        "    k=len(Motifs[0])\n",
        "    for j in range(k):\n",
        "        for symbol in\"ACGT\":\n",
        "            if symbol!=consensus[j]: # Calculate mismatches at each position\n",
        "                score+=count[symbol][j] # Only add counts for symbols that differ from consensus\n",
        "    return score\n",
        "# Input:  A profile matrix Profile and a list of strings Dna\n",
        "# Output: Motifs(Profile, Dna)\n",
        "def Motifs(Profile, Dna):\n",
        "    motifs=[]\n",
        "    n=len(Dna)\n",
        "    k=len(Profile[\"A\"])\n",
        "    for i in range(n):\n",
        "        most_prob=ProfileMostProbableKmer(Dna[i], k, Profile)\n",
        "        motifs.append(most_prob)\n",
        "    return motifs\n",
        "\n",
        "# Insert your ProfileMostProbablePattern(Text, k, Profile) and Pr(Pattern, Profile) functions here.\n",
        "def ProfileMostProbableKmer(text, k, profile):\n",
        "    n=len(text)\n",
        "    max_p=-1\n",
        "    most_probable=text[:k]\n",
        "    for i in range(n-k+1):\n",
        "        k_mer=text[i:i+k]\n",
        "        p=Pr(k_mer,profile)\n",
        "        if p>max_p:\n",
        "            max_p=p\n",
        "            most_probable=k_mer\n",
        "    return most_probable\n",
        "def Pr(pattern, profile):\n",
        "    probability=1\n",
        "    for i in range(len(pattern)):\n",
        "        probability*=profile[pattern[i]][i]\n",
        "    return probability\n",
        "def Consensus(Motifs):\n",
        "    k = len(Motifs[0])\n",
        "    count = CountWithPseudocounts(Motifs)\n",
        "    consensus = \"\"\n",
        "    for j in range(k):\n",
        "        m = 0\n",
        "        frequentSymbol = \"\"\n",
        "        for symbol in \"ACGT\":\n",
        "            if count[symbol][j] > m:\n",
        "                m = count[symbol][j]\n",
        "                frequentSymbol = symbol\n",
        "        consensus += frequentSymbol\n",
        "    return consensus"
      ],
      "metadata": {
        "id": "DxSkafG5tHOw"
      },
      "execution_count": null,
      "outputs": []
    },
    {
      "cell_type": "markdown",
      "source": [
        "##### Normalize(Probabilities)"
      ],
      "metadata": {
        "id": "gji9ZCVXdwXj"
      }
    },
    {
      "cell_type": "code",
      "source": [
        "# Input: A dictionary Probabilities, where keys are k-mers and values are the probabilities of these k-mers (which do not necessarily sum up to 1)\n",
        "# Output: A normalized dictionary where the probability of each k-mer was divided by the sum of all k-mers' probabilities\n",
        "def Normalize(Probabilities):\n",
        "    normalized={}\n",
        "    n=len(Probabilities)\n",
        "    sum_prob=sum(Probabilities.values())\n",
        "    for kmer in Probabilities:\n",
        "        normalized[kmer]=Probabilities[kmer]/sum_prob\n",
        "    return normalized"
      ],
      "metadata": {
        "id": "3-q4onIK0X9G"
      },
      "execution_count": null,
      "outputs": []
    },
    {
      "cell_type": "markdown",
      "source": [
        "##### WeightedDie(Probabilities)"
      ],
      "metadata": {
        "id": "MACRy62mdzZP"
      }
    },
    {
      "cell_type": "code",
      "source": [
        "# first, import the random package\n",
        "import random\n",
        "# Input:  A dictionary Probabilities whose keys are k-mers and whose values are the probabilities of these kmers\n",
        "# Output: A randomly chosen k-mer with respect to the values in Probabilities\n",
        "def WeightedDie(Probabilities):\n",
        "    kmer = ''\n",
        "    p=random.uniform(0, 1)\n",
        "    c_prob=0\n",
        "    for mer,prob in Probabilities.items():\n",
        "        c_prob+=prob\n",
        "        if p<c_prob:\n",
        "            kmer=mer\n",
        "            return kmer"
      ],
      "metadata": {
        "id": "Ae6hUTJFcfEZ"
      },
      "execution_count": null,
      "outputs": []
    },
    {
      "cell_type": "markdown",
      "source": [
        "##### ProfileGeneratedString(Text, profile, k):"
      ],
      "metadata": {
        "id": "rxQJHFbGtfVV"
      }
    },
    {
      "cell_type": "code",
      "source": [
        "# Input:  A string Text, a profile matrix Profile, and an integer k\n",
        "# Output: ProfileGeneratedString(Text, profile, k)\n",
        "def ProfileGeneratedString(Text, profile, k):\n",
        "    n = len(Text)\n",
        "    probabilities = {}\n",
        "    for i in range(0,n-k+1):\n",
        "        probabilities[Text[i:i+k]] = Pr(Text[i:i+k], profile)\n",
        "    probabilities = Normalize(probabilities)\n",
        "    return WeightedDie(probabilities)"
      ],
      "metadata": {
        "id": "YEagbe66r1Am"
      },
      "execution_count": null,
      "outputs": []
    },
    {
      "cell_type": "markdown",
      "source": [
        "##### GibbsSampler(Dna, k, t, N)"
      ],
      "metadata": {
        "id": "nFgh9o1V08n9"
      }
    },
    {
      "cell_type": "code",
      "source": [
        "# first, import the random package\n",
        "import random\n",
        "\n",
        "# Input:  Integers k, t, and N, followed by a collection of strings Dna\n",
        "# Output: GibbsSampler(Dna, k, t, N)\n",
        "def GibbsSampler(Dna, k, t, N):\n",
        "    BestMotifs = [] # output variable\n",
        "    Motifs=RandomMotifs(Dna, k, t)\n",
        "    BestMotifs=Motifs\n",
        "    for j in range(1,N):\n",
        "        i=random.randint(0, t-1)\n",
        "        exclude_i=Motifs[:i]+Motifs[i+1:]\n",
        "        profile=Profile(exclude_i)\n",
        "        motif_i=ProfileGeneratedString(Dna[i], profile, k)\n",
        "        Motifs[i]=motif_i\n",
        "        if Score(Motifs) < Score(BestMotifs):\n",
        "            BestMotifs = Motifs\n",
        "    return BestMotifs\n",
        "\n",
        "# place all subroutines needed for GibbsSampler below this line\n",
        "def RandomMotifs(Dna, k, t):\n",
        "    ran=[]\n",
        "    n=len(Dna[0])\n",
        "    for dna in Dna:\n",
        "        motifs=[]\n",
        "        r=random.randint(0, n-k) # random.randint(a, b) includes both a and b\n",
        "        ran.append(dna[r:r+k])\n",
        "    return ran\n",
        "def Profile(Motifs):\n",
        "    t = len(Motifs)\n",
        "    k = len(Motifs[0])\n",
        "    profile = {}\n",
        "    count=Count(Motifs)\n",
        "    for symbol in \"ATCG\":\n",
        "        profile[symbol]=[]\n",
        "        for j in range(k):\n",
        "            profile[symbol].append(count[symbol][j]/t)\n",
        "    return profile\n",
        "def Count(Motifs):\n",
        "    count = {}\n",
        "    k=len(Motifs[0])\n",
        "    for symbol in \"ACGT\":\n",
        "        count[symbol] = []\n",
        "        for j in range(k):\n",
        "             count[symbol].append(0)\n",
        "    t = len(Motifs)\n",
        "    for i in range(t):\n",
        "        for j in range(k):\n",
        "            symbol = Motifs[i][j]\n",
        "            count[symbol][j] += 1\n",
        "    return count\n",
        "def ProfileGeneratedString(Text, profile, k):\n",
        "    n = len(Text)\n",
        "    probabilities = {}\n",
        "    for i in range(0,n-k+1):\n",
        "        probabilities[Text[i:i+k]] = Pr(Text[i:i+k], profile)\n",
        "    probabilities = Normalize(probabilities)\n",
        "    return WeightedDie(probabilities)\n",
        "def Pr(Text, Profile):\n",
        "    probability=1\n",
        "    for i in range(len(Text)):\n",
        "        probability*=Profile[Text[i]][i]\n",
        "    return probability\n",
        "def Normalize(Probabilities):\n",
        "    normalized={}\n",
        "    n=len(Probabilities)\n",
        "    sum_prob=sum(Probabilities.values())\n",
        "    # Assign uniform probability if total is zero (This can happen if\n",
        "    # ProfileGeneratedString passes an empty or all-zero probability dictionary to Normalize)\n",
        "    if sum_prob==0:\n",
        "        uniform_prob = 1 / len(Probabilities)\n",
        "        for kmer in Probabilities:\n",
        "            normalized[kmer] = uniform_prob\n",
        "    else:\n",
        "        for kmer in Probabilities:\n",
        "            normalized[kmer]=Probabilities[kmer]/sum_prob\n",
        "    return normalized\n",
        "def WeightedDie(Probabilities):\n",
        "    p=random.uniform(0, 1)\n",
        "    c_prob=0\n",
        "    for kmer,prob in Probabilities.items():\n",
        "        c_prob+=prob\n",
        "        if p<c_prob:\n",
        "            return kmer\n",
        "def Score(Motifs):\n",
        "    score=0\n",
        "    count=Count(Motifs)\n",
        "    consensus=Consensus(Motifs)\n",
        "    k=len(Motifs[0])\n",
        "    t=len(Motifs)\n",
        "    for j in range(k):\n",
        "        for symbol in\"ATGC\":\n",
        "            if symbol!=consensus[j]:\n",
        "                score=score+count[symbol][j]\n",
        "    return score\n",
        "def Consensus(Motifs):\n",
        "    k = len(Motifs[0])\n",
        "    count = Count(Motifs)\n",
        "    consensus = \"\"\n",
        "    for j in range(k):\n",
        "        m = 0\n",
        "        frequentSymbol = \"\"\n",
        "        for symbol in \"ACGT\":\n",
        "            if count[symbol][j] > m:\n",
        "                m = count[symbol][j]\n",
        "                frequentSymbol = symbol\n",
        "        consensus += frequentSymbol\n",
        "    return consensus"
      ],
      "metadata": {
        "id": "zKlaUY0h0tVR"
      },
      "execution_count": null,
      "outputs": []
    }
  ]
}